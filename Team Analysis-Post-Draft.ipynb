{
 "cells": [
  {
   "cell_type": "markdown",
   "metadata": {},
   "source": [
    "# Team Roster Analyzer using Sleepers api and RotoUnderworld lifetime values"
   ]
  },
  {
   "cell_type": "markdown",
   "metadata": {},
   "source": [
    "## set up"
   ]
  },
  {
   "cell_type": "code",
   "execution_count": 95,
   "metadata": {
    "ExecuteTime": {
     "end_time": "2021-05-30T16:08:22.389344Z",
     "start_time": "2021-05-30T16:08:22.382313Z"
    }
   },
   "outputs": [],
   "source": [
    "import numpy as np\n",
    "import pandas as pd\n",
    "\n",
    "from sleeper_wrapper import League\n",
    "import requests\n"
   ]
  },
  {
   "cell_type": "code",
   "execution_count": 96,
   "metadata": {
    "ExecuteTime": {
     "end_time": "2021-05-30T16:08:22.594368Z",
     "start_time": "2021-05-30T16:08:22.391342Z"
    }
   },
   "outputs": [],
   "source": [
    "league = League(692104824862367744)"
   ]
  },
  {
   "cell_type": "code",
   "execution_count": 97,
   "metadata": {
    "ExecuteTime": {
     "end_time": "2021-05-30T16:08:22.610132Z",
     "start_time": "2021-05-30T16:08:22.596120Z"
    }
   },
   "outputs": [],
   "source": [
    "data_in = './data_in/'\n",
    "data_out = './data_out/'\n",
    "data_postfix = 'dynasty-ppr-rankings'\n",
    "league_id=692104824862367744"
   ]
  },
  {
   "cell_type": "code",
   "execution_count": 98,
   "metadata": {
    "ExecuteTime": {
     "end_time": "2021-05-30T16:08:22.642171Z",
     "start_time": "2021-05-30T16:08:22.617125Z"
    }
   },
   "outputs": [],
   "source": [
    "ALL = pd.read_csv('{}All-{}.csv'.format(data_in,data_postfix))"
   ]
  },
  {
   "cell_type": "markdown",
   "metadata": {},
   "source": [
    "## add initial picks with 3rd round reverse"
   ]
  },
  {
   "cell_type": "code",
   "execution_count": 99,
   "metadata": {
    "ExecuteTime": {
     "end_time": "2021-05-30T16:08:22.674123Z",
     "start_time": "2021-05-30T16:08:22.643120Z"
    }
   },
   "outputs": [],
   "source": [
    "fwards=[0,1,2,3,4,5,6,7,8,9,10,11]\n",
    "bwards=[11,10,9,8,7,6,5,4,3,2,1,0]"
   ]
  },
  {
   "cell_type": "code",
   "execution_count": 100,
   "metadata": {
    "ExecuteTime": {
     "end_time": "2021-05-30T16:08:22.690123Z",
     "start_time": "2021-05-30T16:08:22.677156Z"
    }
   },
   "outputs": [],
   "source": [
    "picks={1:[],2:[],3:[],4:[],5:[],6:[],7:[],8:[],9:[],10:[],11:[],12:[]}"
   ]
  },
  {
   "cell_type": "code",
   "execution_count": 101,
   "metadata": {
    "ExecuteTime": {
     "end_time": "2021-05-30T16:08:22.738126Z",
     "start_time": "2021-05-30T16:08:22.694125Z"
    }
   },
   "outputs": [],
   "source": [
    "players={1:[],2:[],3:[],4:[],5:[],6:[],7:[],8:[],9:[],10:[],11:[],12:[]}\n",
    "players_val={1:[],2:[],3:[],4:[],5:[],6:[],7:[],8:[],9:[],10:[],11:[],12:[]}"
   ]
  },
  {
   "cell_type": "code",
   "execution_count": 102,
   "metadata": {
    "ExecuteTime": {
     "end_time": "2021-05-30T16:08:22.753118Z",
     "start_time": "2021-05-30T16:08:22.744125Z"
    }
   },
   "outputs": [],
   "source": [
    "for x in range(1,5):\n",
    "    for k,v in enumerate(fwards):\n",
    "        picks[k+1].append(x)"
   ]
  },
  {
   "cell_type": "code",
   "execution_count": 103,
   "metadata": {
    "ExecuteTime": {
     "end_time": "2021-05-30T16:08:22.801123Z",
     "start_time": "2021-05-30T16:08:22.771136Z"
    }
   },
   "outputs": [
    {
     "data": {
      "text/plain": [
       "{1: [1, 2, 3, 4],\n",
       " 2: [1, 2, 3, 4],\n",
       " 3: [1, 2, 3, 4],\n",
       " 4: [1, 2, 3, 4],\n",
       " 5: [1, 2, 3, 4],\n",
       " 6: [1, 2, 3, 4],\n",
       " 7: [1, 2, 3, 4],\n",
       " 8: [1, 2, 3, 4],\n",
       " 9: [1, 2, 3, 4],\n",
       " 10: [1, 2, 3, 4],\n",
       " 11: [1, 2, 3, 4],\n",
       " 12: [1, 2, 3, 4]}"
      ]
     },
     "execution_count": 103,
     "metadata": {},
     "output_type": "execute_result"
    }
   ],
   "source": [
    "picks"
   ]
  },
  {
   "cell_type": "markdown",
   "metadata": {},
   "source": [
    "### roster 2 slot"
   ]
  },
  {
   "cell_type": "code",
   "execution_count": 104,
   "metadata": {
    "ExecuteTime": {
     "end_time": "2021-05-30T16:08:23.066801Z",
     "start_time": "2021-05-30T16:08:22.805121Z"
    }
   },
   "outputs": [],
   "source": [
    "draft_meta=requests.get(\"https://api.sleeper.app/v1/draft/692104825852223488\")"
   ]
  },
  {
   "cell_type": "code",
   "execution_count": 105,
   "metadata": {
    "ExecuteTime": {
     "end_time": "2021-05-30T16:08:23.097815Z",
     "start_time": "2021-05-30T16:08:23.072809Z"
    },
    "scrolled": true
   },
   "outputs": [
    {
     "data": {
      "text/plain": [
       "{12: 9, 7: 8, 10: 7, 2: 6, 9: 5, 5: 4, 4: 3, 8: 2, 1: 12, 6: 11, 3: 10, 11: 1}"
      ]
     },
     "execution_count": 105,
     "metadata": {},
     "output_type": "execute_result"
    }
   ],
   "source": [
    "roster_id_slots=draft_meta.json()['slot_to_roster_id']\n",
    "roster_id_slots = {v:int(k) for k, v in roster_id_slots.items()}\n",
    "roster_id_slots"
   ]
  },
  {
   "cell_type": "code",
   "execution_count": 106,
   "metadata": {
    "ExecuteTime": {
     "end_time": "2021-05-30T16:08:23.143787Z",
     "start_time": "2021-05-30T16:08:23.107799Z"
    }
   },
   "outputs": [],
   "source": [
    "def roster_2_slot(x):\n",
    "    return roster_id_slots[x]"
   ]
  },
  {
   "cell_type": "code",
   "execution_count": 107,
   "metadata": {
    "ExecuteTime": {
     "end_time": "2021-05-30T16:08:23.159832Z",
     "start_time": "2021-05-30T16:08:23.145790Z"
    }
   },
   "outputs": [],
   "source": [
    "def slot_2_roster(x):\n",
    "    slot_2_roster = {v:int(k) for k, v in roster_id_slots.items()}\n",
    "    return slot_2_roster[x]"
   ]
  },
  {
   "cell_type": "markdown",
   "metadata": {},
   "source": [
    "## Pull the traded picks so far from the api"
   ]
  },
  {
   "cell_type": "code",
   "execution_count": 108,
   "metadata": {
    "ExecuteTime": {
     "end_time": "2021-05-30T16:08:23.379052Z",
     "start_time": "2021-05-30T16:08:23.161836Z"
    }
   },
   "outputs": [],
   "source": [
    "traded=requests.get(f\"https://api.sleeper.app/v1/league/{league_id}/traded_picks\")"
   ]
  },
  {
   "cell_type": "code",
   "execution_count": 129,
   "metadata": {
    "ExecuteTime": {
     "end_time": "2021-05-30T16:27:06.589780Z",
     "start_time": "2021-05-30T16:27:06.576797Z"
    },
    "scrolled": true
   },
   "outputs": [
    {
     "data": {
      "text/plain": [
       "list"
      ]
     },
     "execution_count": 129,
     "metadata": {},
     "output_type": "execute_result"
    }
   ],
   "source": [
    "traded.json()"
   ]
  },
  {
   "cell_type": "code",
   "execution_count": 110,
   "metadata": {
    "ExecuteTime": {
     "end_time": "2021-05-30T16:08:23.456354Z",
     "start_time": "2021-05-30T16:08:23.443351Z"
    },
    "scrolled": true
   },
   "outputs": [],
   "source": [
    "trade_table=pd.json_normalize(traded.json())\n",
    "trade_table=trade_table.rename(columns={'round':'Rou'})"
   ]
  },
  {
   "cell_type": "markdown",
   "metadata": {},
   "source": [
    "### assign the pick number to the traded pick"
   ]
  },
  {
   "cell_type": "code",
   "execution_count": 111,
   "metadata": {
    "ExecuteTime": {
     "end_time": "2021-05-30T16:08:23.488355Z",
     "start_time": "2021-05-30T16:08:23.463374Z"
    },
    "scrolled": true
   },
   "outputs": [],
   "source": [
    "trade_table=trade_table[trade_table['season']!='2021']"
   ]
  },
  {
   "cell_type": "code",
   "execution_count": 112,
   "metadata": {
    "ExecuteTime": {
     "end_time": "2021-05-30T16:08:23.505374Z",
     "start_time": "2021-05-30T16:08:23.491354Z"
    },
    "scrolled": true
   },
   "outputs": [
    {
     "data": {
      "text/html": [
       "<div>\n",
       "<style scoped>\n",
       "    .dataframe tbody tr th:only-of-type {\n",
       "        vertical-align: middle;\n",
       "    }\n",
       "\n",
       "    .dataframe tbody tr th {\n",
       "        vertical-align: top;\n",
       "    }\n",
       "\n",
       "    .dataframe thead th {\n",
       "        text-align: right;\n",
       "    }\n",
       "</style>\n",
       "<table border=\"1\" class=\"dataframe\">\n",
       "  <thead>\n",
       "    <tr style=\"text-align: right;\">\n",
       "      <th></th>\n",
       "      <th>season</th>\n",
       "      <th>Rou</th>\n",
       "      <th>roster_id</th>\n",
       "      <th>previous_owner_id</th>\n",
       "      <th>owner_id</th>\n",
       "    </tr>\n",
       "  </thead>\n",
       "  <tbody>\n",
       "    <tr>\n",
       "      <th>26</th>\n",
       "      <td>2022</td>\n",
       "      <td>1</td>\n",
       "      <td>4</td>\n",
       "      <td>4</td>\n",
       "      <td>1</td>\n",
       "    </tr>\n",
       "    <tr>\n",
       "      <th>34</th>\n",
       "      <td>2022</td>\n",
       "      <td>1</td>\n",
       "      <td>5</td>\n",
       "      <td>6</td>\n",
       "      <td>3</td>\n",
       "    </tr>\n",
       "    <tr>\n",
       "      <th>44</th>\n",
       "      <td>2022</td>\n",
       "      <td>2</td>\n",
       "      <td>6</td>\n",
       "      <td>6</td>\n",
       "      <td>4</td>\n",
       "    </tr>\n",
       "    <tr>\n",
       "      <th>67</th>\n",
       "      <td>2022</td>\n",
       "      <td>1</td>\n",
       "      <td>8</td>\n",
       "      <td>8</td>\n",
       "      <td>7</td>\n",
       "    </tr>\n",
       "    <tr>\n",
       "      <th>68</th>\n",
       "      <td>2022</td>\n",
       "      <td>2</td>\n",
       "      <td>8</td>\n",
       "      <td>8</td>\n",
       "      <td>3</td>\n",
       "    </tr>\n",
       "    <tr>\n",
       "      <th>90</th>\n",
       "      <td>2022</td>\n",
       "      <td>1</td>\n",
       "      <td>12</td>\n",
       "      <td>12</td>\n",
       "      <td>7</td>\n",
       "    </tr>\n",
       "  </tbody>\n",
       "</table>\n",
       "</div>"
      ],
      "text/plain": [
       "   season  Rou  roster_id  previous_owner_id  owner_id\n",
       "26   2022    1          4                  4         1\n",
       "34   2022    1          5                  6         3\n",
       "44   2022    2          6                  6         4\n",
       "67   2022    1          8                  8         7\n",
       "68   2022    2          8                  8         3\n",
       "90   2022    1         12                 12         7"
      ]
     },
     "execution_count": 112,
     "metadata": {},
     "output_type": "execute_result"
    }
   ],
   "source": [
    "trade_table"
   ]
  },
  {
   "cell_type": "markdown",
   "metadata": {},
   "source": [
    "### remove the pick from the old team, and give it to the new team"
   ]
  },
  {
   "cell_type": "code",
   "execution_count": 113,
   "metadata": {
    "ExecuteTime": {
     "end_time": "2021-05-30T16:08:23.552356Z",
     "start_time": "2021-05-30T16:08:23.517366Z"
    }
   },
   "outputs": [],
   "source": [
    "for row in trade_table.itertuples():\n",
    "    picks[row.roster_id].remove(row.Rou)\n",
    "    picks[row.owner_id].append(row.Rou)"
   ]
  },
  {
   "cell_type": "code",
   "execution_count": 115,
   "metadata": {
    "ExecuteTime": {
     "end_time": "2021-05-30T16:08:23.600358Z",
     "start_time": "2021-05-30T16:08:23.571353Z"
    }
   },
   "outputs": [
    {
     "data": {
      "text/plain": [
       "{1: [1, 2, 3, 4, 1],\n",
       " 2: [1, 2, 3, 4],\n",
       " 3: [1, 2, 3, 4, 1, 2],\n",
       " 4: [2, 3, 4, 2],\n",
       " 5: [2, 3, 4],\n",
       " 6: [1, 3, 4],\n",
       " 7: [1, 2, 3, 4, 1, 1],\n",
       " 8: [3, 4],\n",
       " 9: [1, 2, 3, 4],\n",
       " 10: [1, 2, 3, 4],\n",
       " 11: [1, 2, 3, 4],\n",
       " 12: [2, 3, 4]}"
      ]
     },
     "execution_count": 115,
     "metadata": {},
     "output_type": "execute_result"
    }
   ],
   "source": [
    "picks"
   ]
  },
  {
   "cell_type": "code",
   "execution_count": 211,
   "metadata": {
    "ExecuteTime": {
     "end_time": "2021-05-30T20:36:25.920105Z",
     "start_time": "2021-05-30T20:36:25.902953Z"
    }
   },
   "outputs": [],
   "source": [
    "pick_val={1:96,\n",
    "2:51,\n",
    "3:29,\n",
    "4:16}"
   ]
  },
  {
   "cell_type": "code",
   "execution_count": 207,
   "metadata": {
    "ExecuteTime": {
     "end_time": "2021-05-30T15:43:53.744473Z",
     "start_time": "2021-05-30T15:43:53.716469Z"
    }
   },
   "outputs": [],
   "source": [
    "#dictionary to fix name discrepencies\n",
    "name_dict={\n",
    "        'DK Metcalf':\"D.K. Metcalf\",\n",
    "        'DeVonta Smith':'Devonta Smith',\n",
    "        'Laviska Shenault':'LaViska Shenault',\n",
    "        'Kenneth Gainwell':'Kenny Gainwell',\n",
    "        'La\\'Mical Perine':'Lamical Perine'\n",
    "}"
   ]
  },
  {
   "cell_type": "markdown",
   "metadata": {},
   "source": [
    "## Pull the rosters from sleepers api"
   ]
  },
  {
   "cell_type": "code",
   "execution_count": 116,
   "metadata": {
    "ExecuteTime": {
     "end_time": "2021-05-30T16:15:00.626399Z",
     "start_time": "2021-05-30T16:15:00.401135Z"
    }
   },
   "outputs": [],
   "source": [
    "draft=requests.get(f\"https://api.sleeper.app/v1/league/{league_id}/rosters\")"
   ]
  },
  {
   "cell_type": "code",
   "execution_count": 2,
   "metadata": {
    "ExecuteTime": {
     "end_time": "2021-06-23T16:32:44.250797Z",
     "start_time": "2021-06-23T16:32:44.233663Z"
    }
   },
   "outputs": [],
   "source": [
    "#draft.json()"
   ]
  },
  {
   "cell_type": "code",
   "execution_count": 118,
   "metadata": {
    "ExecuteTime": {
     "end_time": "2021-05-30T16:15:53.647446Z",
     "start_time": "2021-05-30T16:15:53.624240Z"
    },
    "scrolled": true
   },
   "outputs": [],
   "source": [
    "draft_df=pd.json_normalize(draft.json())"
   ]
  },
  {
   "cell_type": "code",
   "execution_count": 119,
   "metadata": {
    "ExecuteTime": {
     "end_time": "2021-05-30T16:15:59.752633Z",
     "start_time": "2021-05-30T16:15:59.697608Z"
    },
    "scrolled": true
   },
   "outputs": [
    {
     "data": {
      "text/html": [
       "<div>\n",
       "<style scoped>\n",
       "    .dataframe tbody tr th:only-of-type {\n",
       "        vertical-align: middle;\n",
       "    }\n",
       "\n",
       "    .dataframe tbody tr th {\n",
       "        vertical-align: top;\n",
       "    }\n",
       "\n",
       "    .dataframe thead th {\n",
       "        text-align: right;\n",
       "    }\n",
       "</style>\n",
       "<table border=\"1\" class=\"dataframe\">\n",
       "  <thead>\n",
       "    <tr style=\"text-align: right;\">\n",
       "      <th></th>\n",
       "      <th>taxi</th>\n",
       "      <th>starters</th>\n",
       "      <th>roster_id</th>\n",
       "      <th>reserve</th>\n",
       "      <th>players</th>\n",
       "      <th>player_map</th>\n",
       "      <th>owner_id</th>\n",
       "      <th>league_id</th>\n",
       "      <th>co_owners</th>\n",
       "      <th>settings.wins</th>\n",
       "      <th>...</th>\n",
       "      <th>settings.ties</th>\n",
       "      <th>settings.losses</th>\n",
       "      <th>settings.fpts</th>\n",
       "      <th>metadata.restrict_pn_scoring_starters_only</th>\n",
       "      <th>metadata.allow_pn_scoring</th>\n",
       "      <th>metadata</th>\n",
       "      <th>metadata.p_nick_4034</th>\n",
       "      <th>metadata.p_nick_3321</th>\n",
       "      <th>metadata.p_nick_3199</th>\n",
       "      <th>metadata.p_nick_1426</th>\n",
       "    </tr>\n",
       "  </thead>\n",
       "  <tbody>\n",
       "    <tr>\n",
       "      <th>0</th>\n",
       "      <td>[7562, 7568, 7594, 7670]</td>\n",
       "      <td>[7523, 7588, 3664, 6786, 6783, 6886, 7553, 756...</td>\n",
       "      <td>1</td>\n",
       "      <td>None</td>\n",
       "      <td>[2306, 2460, 3286, 3664, 4157, 4622, 4943, 678...</td>\n",
       "      <td>None</td>\n",
       "      <td>565684665600733184</td>\n",
       "      <td>692104824862367744</td>\n",
       "      <td>None</td>\n",
       "      <td>0</td>\n",
       "      <td>...</td>\n",
       "      <td>0</td>\n",
       "      <td>0</td>\n",
       "      <td>0</td>\n",
       "      <td>on</td>\n",
       "      <td>off</td>\n",
       "      <td>NaN</td>\n",
       "      <td>NaN</td>\n",
       "      <td>NaN</td>\n",
       "      <td>NaN</td>\n",
       "      <td>NaN</td>\n",
       "    </tr>\n",
       "    <tr>\n",
       "      <th>1</th>\n",
       "      <td>[7579, 7608, 7703, 7956]</td>\n",
       "      <td>[4046, 3164, 5892, 2216, 5848, 5045, 2505, 182...</td>\n",
       "      <td>2</td>\n",
       "      <td>None</td>\n",
       "      <td>[1706, 1825, 2028, 2118, 2216, 2319, 2325, 237...</td>\n",
       "      <td>None</td>\n",
       "      <td>464605759842283520</td>\n",
       "      <td>692104824862367744</td>\n",
       "      <td>None</td>\n",
       "      <td>0</td>\n",
       "      <td>...</td>\n",
       "      <td>0</td>\n",
       "      <td>0</td>\n",
       "      <td>0</td>\n",
       "      <td>NaN</td>\n",
       "      <td>NaN</td>\n",
       "      <td>NaN</td>\n",
       "      <td>NaN</td>\n",
       "      <td>NaN</td>\n",
       "      <td>NaN</td>\n",
       "      <td>NaN</td>\n",
       "    </tr>\n",
       "    <tr>\n",
       "      <th>2</th>\n",
       "      <td>None</td>\n",
       "      <td>[3294, 6151, 3969, 2309, 4950, 6805, 5857, 693...</td>\n",
       "      <td>3</td>\n",
       "      <td>None</td>\n",
       "      <td>[2309, 3294, 3969, 4435, 4571, 4718, 4950, 500...</td>\n",
       "      <td>None</td>\n",
       "      <td>315559272291237888</td>\n",
       "      <td>692104824862367744</td>\n",
       "      <td>None</td>\n",
       "      <td>0</td>\n",
       "      <td>...</td>\n",
       "      <td>0</td>\n",
       "      <td>0</td>\n",
       "      <td>0</td>\n",
       "      <td>NaN</td>\n",
       "      <td>NaN</td>\n",
       "      <td>NaN</td>\n",
       "      <td>NaN</td>\n",
       "      <td>NaN</td>\n",
       "      <td>NaN</td>\n",
       "      <td>NaN</td>\n",
       "    </tr>\n",
       "    <tr>\n",
       "      <th>3</th>\n",
       "      <td>[7556, 7609, 7720, 7944]</td>\n",
       "      <td>[5849, 6845, 7543, 5846, 5872, 6789, 5844, 679...</td>\n",
       "      <td>4</td>\n",
       "      <td>None</td>\n",
       "      <td>[1833, 2152, 2583, 2711, 3271, 5185, 5844, 584...</td>\n",
       "      <td>None</td>\n",
       "      <td>694764145630867456</td>\n",
       "      <td>692104824862367744</td>\n",
       "      <td>None</td>\n",
       "      <td>0</td>\n",
       "      <td>...</td>\n",
       "      <td>0</td>\n",
       "      <td>0</td>\n",
       "      <td>0</td>\n",
       "      <td>on</td>\n",
       "      <td>on</td>\n",
       "      <td>NaN</td>\n",
       "      <td>NaN</td>\n",
       "      <td>NaN</td>\n",
       "      <td>NaN</td>\n",
       "      <td>NaN</td>\n",
       "    </tr>\n",
       "    <tr>\n",
       "      <th>4</th>\n",
       "      <td>[7536, 7558, 7560, 7605]</td>\n",
       "      <td>[4881, 5850, 6955, 2133, 6801, 6819, 4602, 223...</td>\n",
       "      <td>5</td>\n",
       "      <td>None</td>\n",
       "      <td>[2133, 2238, 2257, 2588, 4602, 4881, 4973, 525...</td>\n",
       "      <td>None</td>\n",
       "      <td>694780713802743808</td>\n",
       "      <td>692104824862367744</td>\n",
       "      <td>None</td>\n",
       "      <td>0</td>\n",
       "      <td>...</td>\n",
       "      <td>0</td>\n",
       "      <td>0</td>\n",
       "      <td>0</td>\n",
       "      <td>on</td>\n",
       "      <td>on</td>\n",
       "      <td>NaN</td>\n",
       "      <td>NaN</td>\n",
       "      <td>NaN</td>\n",
       "      <td>NaN</td>\n",
       "      <td>NaN</td>\n",
       "    </tr>\n",
       "    <tr>\n",
       "      <th>5</th>\n",
       "      <td>[7569, 7574, 7595, 7604]</td>\n",
       "      <td>[4017, 4018, 6790, 2078, 4040, 4983, 6126, 694...</td>\n",
       "      <td>6</td>\n",
       "      <td>None</td>\n",
       "      <td>[2078, 4017, 4018, 4033, 4036, 4040, 4055, 408...</td>\n",
       "      <td>None</td>\n",
       "      <td>511961571150868480</td>\n",
       "      <td>692104824862367744</td>\n",
       "      <td>None</td>\n",
       "      <td>0</td>\n",
       "      <td>...</td>\n",
       "      <td>0</td>\n",
       "      <td>0</td>\n",
       "      <td>0</td>\n",
       "      <td>NaN</td>\n",
       "      <td>NaN</td>\n",
       "      <td>NaN</td>\n",
       "      <td>NaN</td>\n",
       "      <td>NaN</td>\n",
       "      <td>NaN</td>\n",
       "      <td>NaN</td>\n",
       "    </tr>\n",
       "    <tr>\n",
       "      <th>6</th>\n",
       "      <td>[7538, 7563, 7602, 7812]</td>\n",
       "      <td>[167, 6820, 3242, 1992, 1352, 1110, 515, 4663,...</td>\n",
       "      <td>7</td>\n",
       "      <td>None</td>\n",
       "      <td>[1067, 1110, 1352, 1386, 167, 1992, 2346, 3161...</td>\n",
       "      <td>None</td>\n",
       "      <td>694787445329293312</td>\n",
       "      <td>692104824862367744</td>\n",
       "      <td>None</td>\n",
       "      <td>0</td>\n",
       "      <td>...</td>\n",
       "      <td>0</td>\n",
       "      <td>0</td>\n",
       "      <td>0</td>\n",
       "      <td>on</td>\n",
       "      <td>on</td>\n",
       "      <td>NaN</td>\n",
       "      <td>NaN</td>\n",
       "      <td>NaN</td>\n",
       "      <td>NaN</td>\n",
       "      <td>NaN</td>\n",
       "    </tr>\n",
       "    <tr>\n",
       "      <th>7</th>\n",
       "      <td>[7541, 7583, 7771, 7828]</td>\n",
       "      <td>[1166, 4034, 4988, 3199, 3321, 947, 3214, 1426...</td>\n",
       "      <td>8</td>\n",
       "      <td>None</td>\n",
       "      <td>[1144, 1166, 1426, 2307, 2410, 3163, 3199, 320...</td>\n",
       "      <td>None</td>\n",
       "      <td>694977976969805824</td>\n",
       "      <td>692104824862367744</td>\n",
       "      <td>None</td>\n",
       "      <td>0</td>\n",
       "      <td>...</td>\n",
       "      <td>0</td>\n",
       "      <td>0</td>\n",
       "      <td>0</td>\n",
       "      <td>NaN</td>\n",
       "      <td>NaN</td>\n",
       "      <td>NaN</td>\n",
       "      <td>CMC</td>\n",
       "      <td>Reek</td>\n",
       "      <td>MT</td>\n",
       "      <td>D Hop</td>\n",
       "    </tr>\n",
       "    <tr>\n",
       "      <th>8</th>\n",
       "      <td>[7572, 7581, 7603, 7694]</td>\n",
       "      <td>[96, 4199, 5000, 4131, 5859, 2374, 5012, 2449,...</td>\n",
       "      <td>9</td>\n",
       "      <td>[5284]</td>\n",
       "      <td>[138, 2197, 2374, 2449, 2749, 3423, 367, 4131,...</td>\n",
       "      <td>None</td>\n",
       "      <td>693183322456686592</td>\n",
       "      <td>692104824862367744</td>\n",
       "      <td>None</td>\n",
       "      <td>0</td>\n",
       "      <td>...</td>\n",
       "      <td>0</td>\n",
       "      <td>0</td>\n",
       "      <td>0</td>\n",
       "      <td>NaN</td>\n",
       "      <td>NaN</td>\n",
       "      <td>NaN</td>\n",
       "      <td>NaN</td>\n",
       "      <td>NaN</td>\n",
       "      <td>NaN</td>\n",
       "      <td>NaN</td>\n",
       "    </tr>\n",
       "    <tr>\n",
       "      <th>9</th>\n",
       "      <td>None</td>\n",
       "      <td>[24, 4029, 3198, 5927, 1479, 3225, 1466, 2320,...</td>\n",
       "      <td>10</td>\n",
       "      <td>None</td>\n",
       "      <td>[1049, 1466, 1479, 1848, 2320, 24, 2431, 3198,...</td>\n",
       "      <td>None</td>\n",
       "      <td>695046489558286336</td>\n",
       "      <td>692104824862367744</td>\n",
       "      <td>None</td>\n",
       "      <td>0</td>\n",
       "      <td>...</td>\n",
       "      <td>0</td>\n",
       "      <td>0</td>\n",
       "      <td>0</td>\n",
       "      <td>NaN</td>\n",
       "      <td>NaN</td>\n",
       "      <td>NaN</td>\n",
       "      <td>NaN</td>\n",
       "      <td>NaN</td>\n",
       "      <td>NaN</td>\n",
       "      <td>NaN</td>\n",
       "    </tr>\n",
       "    <tr>\n",
       "      <th>10</th>\n",
       "      <td>None</td>\n",
       "      <td>[1837, 4866, 4137, 4037, 1689, 1817, 4217, 239...</td>\n",
       "      <td>11</td>\n",
       "      <td>None</td>\n",
       "      <td>[1339, 1408, 1476, 1689, 1817, 1837, 223, 2391...</td>\n",
       "      <td>None</td>\n",
       "      <td>562518449558093824</td>\n",
       "      <td>692104824862367744</td>\n",
       "      <td>None</td>\n",
       "      <td>0</td>\n",
       "      <td>...</td>\n",
       "      <td>0</td>\n",
       "      <td>0</td>\n",
       "      <td>0</td>\n",
       "      <td>on</td>\n",
       "      <td>on</td>\n",
       "      <td>NaN</td>\n",
       "      <td>NaN</td>\n",
       "      <td>NaN</td>\n",
       "      <td>NaN</td>\n",
       "      <td>NaN</td>\n",
       "    </tr>\n",
       "    <tr>\n",
       "      <th>11</th>\n",
       "      <td>[7585, 7589]</td>\n",
       "      <td>[1234, 4035, 6813, 4981, 4039, 4082, 4993, 406...</td>\n",
       "      <td>12</td>\n",
       "      <td>None</td>\n",
       "      <td>[1234, 2161, 2251, 2315, 2331, 3157, 3200, 397...</td>\n",
       "      <td>None</td>\n",
       "      <td>685284962349420544</td>\n",
       "      <td>692104824862367744</td>\n",
       "      <td>None</td>\n",
       "      <td>0</td>\n",
       "      <td>...</td>\n",
       "      <td>0</td>\n",
       "      <td>0</td>\n",
       "      <td>0</td>\n",
       "      <td>NaN</td>\n",
       "      <td>NaN</td>\n",
       "      <td>NaN</td>\n",
       "      <td>NaN</td>\n",
       "      <td>NaN</td>\n",
       "      <td>NaN</td>\n",
       "      <td>NaN</td>\n",
       "    </tr>\n",
       "  </tbody>\n",
       "</table>\n",
       "<p>12 rows × 23 columns</p>\n",
       "</div>"
      ],
      "text/plain": [
       "                        taxi  \\\n",
       "0   [7562, 7568, 7594, 7670]   \n",
       "1   [7579, 7608, 7703, 7956]   \n",
       "2                       None   \n",
       "3   [7556, 7609, 7720, 7944]   \n",
       "4   [7536, 7558, 7560, 7605]   \n",
       "5   [7569, 7574, 7595, 7604]   \n",
       "6   [7538, 7563, 7602, 7812]   \n",
       "7   [7541, 7583, 7771, 7828]   \n",
       "8   [7572, 7581, 7603, 7694]   \n",
       "9                       None   \n",
       "10                      None   \n",
       "11              [7585, 7589]   \n",
       "\n",
       "                                             starters  roster_id reserve  \\\n",
       "0   [7523, 7588, 3664, 6786, 6783, 6886, 7553, 756...          1    None   \n",
       "1   [4046, 3164, 5892, 2216, 5848, 5045, 2505, 182...          2    None   \n",
       "2   [3294, 6151, 3969, 2309, 4950, 6805, 5857, 693...          3    None   \n",
       "3   [5849, 6845, 7543, 5846, 5872, 6789, 5844, 679...          4    None   \n",
       "4   [4881, 5850, 6955, 2133, 6801, 6819, 4602, 223...          5    None   \n",
       "5   [4017, 4018, 6790, 2078, 4040, 4983, 6126, 694...          6    None   \n",
       "6   [167, 6820, 3242, 1992, 1352, 1110, 515, 4663,...          7    None   \n",
       "7   [1166, 4034, 4988, 3199, 3321, 947, 3214, 1426...          8    None   \n",
       "8   [96, 4199, 5000, 4131, 5859, 2374, 5012, 2449,...          9  [5284]   \n",
       "9   [24, 4029, 3198, 5927, 1479, 3225, 1466, 2320,...         10    None   \n",
       "10  [1837, 4866, 4137, 4037, 1689, 1817, 4217, 239...         11    None   \n",
       "11  [1234, 4035, 6813, 4981, 4039, 4082, 4993, 406...         12    None   \n",
       "\n",
       "                                              players player_map  \\\n",
       "0   [2306, 2460, 3286, 3664, 4157, 4622, 4943, 678...       None   \n",
       "1   [1706, 1825, 2028, 2118, 2216, 2319, 2325, 237...       None   \n",
       "2   [2309, 3294, 3969, 4435, 4571, 4718, 4950, 500...       None   \n",
       "3   [1833, 2152, 2583, 2711, 3271, 5185, 5844, 584...       None   \n",
       "4   [2133, 2238, 2257, 2588, 4602, 4881, 4973, 525...       None   \n",
       "5   [2078, 4017, 4018, 4033, 4036, 4040, 4055, 408...       None   \n",
       "6   [1067, 1110, 1352, 1386, 167, 1992, 2346, 3161...       None   \n",
       "7   [1144, 1166, 1426, 2307, 2410, 3163, 3199, 320...       None   \n",
       "8   [138, 2197, 2374, 2449, 2749, 3423, 367, 4131,...       None   \n",
       "9   [1049, 1466, 1479, 1848, 2320, 24, 2431, 3198,...       None   \n",
       "10  [1339, 1408, 1476, 1689, 1817, 1837, 223, 2391...       None   \n",
       "11  [1234, 2161, 2251, 2315, 2331, 3157, 3200, 397...       None   \n",
       "\n",
       "              owner_id           league_id co_owners  settings.wins  ...  \\\n",
       "0   565684665600733184  692104824862367744      None              0  ...   \n",
       "1   464605759842283520  692104824862367744      None              0  ...   \n",
       "2   315559272291237888  692104824862367744      None              0  ...   \n",
       "3   694764145630867456  692104824862367744      None              0  ...   \n",
       "4   694780713802743808  692104824862367744      None              0  ...   \n",
       "5   511961571150868480  692104824862367744      None              0  ...   \n",
       "6   694787445329293312  692104824862367744      None              0  ...   \n",
       "7   694977976969805824  692104824862367744      None              0  ...   \n",
       "8   693183322456686592  692104824862367744      None              0  ...   \n",
       "9   695046489558286336  692104824862367744      None              0  ...   \n",
       "10  562518449558093824  692104824862367744      None              0  ...   \n",
       "11  685284962349420544  692104824862367744      None              0  ...   \n",
       "\n",
       "    settings.ties  settings.losses  settings.fpts  \\\n",
       "0               0                0              0   \n",
       "1               0                0              0   \n",
       "2               0                0              0   \n",
       "3               0                0              0   \n",
       "4               0                0              0   \n",
       "5               0                0              0   \n",
       "6               0                0              0   \n",
       "7               0                0              0   \n",
       "8               0                0              0   \n",
       "9               0                0              0   \n",
       "10              0                0              0   \n",
       "11              0                0              0   \n",
       "\n",
       "    metadata.restrict_pn_scoring_starters_only  metadata.allow_pn_scoring  \\\n",
       "0                                           on                        off   \n",
       "1                                          NaN                        NaN   \n",
       "2                                          NaN                        NaN   \n",
       "3                                           on                         on   \n",
       "4                                           on                         on   \n",
       "5                                          NaN                        NaN   \n",
       "6                                           on                         on   \n",
       "7                                          NaN                        NaN   \n",
       "8                                          NaN                        NaN   \n",
       "9                                          NaN                        NaN   \n",
       "10                                          on                         on   \n",
       "11                                         NaN                        NaN   \n",
       "\n",
       "    metadata metadata.p_nick_4034 metadata.p_nick_3321  metadata.p_nick_3199  \\\n",
       "0        NaN                  NaN                  NaN                   NaN   \n",
       "1        NaN                  NaN                  NaN                   NaN   \n",
       "2        NaN                  NaN                  NaN                   NaN   \n",
       "3        NaN                  NaN                  NaN                   NaN   \n",
       "4        NaN                  NaN                  NaN                   NaN   \n",
       "5        NaN                  NaN                  NaN                   NaN   \n",
       "6        NaN                  NaN                  NaN                   NaN   \n",
       "7        NaN                  CMC                 Reek                    MT   \n",
       "8        NaN                  NaN                  NaN                   NaN   \n",
       "9        NaN                  NaN                  NaN                   NaN   \n",
       "10       NaN                  NaN                  NaN                   NaN   \n",
       "11       NaN                  NaN                  NaN                   NaN   \n",
       "\n",
       "   metadata.p_nick_1426  \n",
       "0                   NaN  \n",
       "1                   NaN  \n",
       "2                   NaN  \n",
       "3                   NaN  \n",
       "4                   NaN  \n",
       "5                   NaN  \n",
       "6                   NaN  \n",
       "7                 D Hop  \n",
       "8                   NaN  \n",
       "9                   NaN  \n",
       "10                  NaN  \n",
       "11                  NaN  \n",
       "\n",
       "[12 rows x 23 columns]"
      ]
     },
     "execution_count": 119,
     "metadata": {},
     "output_type": "execute_result"
    }
   ],
   "source": [
    "draft_df"
   ]
  },
  {
   "cell_type": "code",
   "execution_count": 123,
   "metadata": {
    "ExecuteTime": {
     "end_time": "2021-05-30T16:20:04.199222Z",
     "start_time": "2021-05-30T16:20:02.728838Z"
    }
   },
   "outputs": [],
   "source": [
    "sleeper_players=requests.get(f\"https://api.sleeper.app/v1/players/nfl\")"
   ]
  },
  {
   "cell_type": "code",
   "execution_count": 138,
   "metadata": {
    "ExecuteTime": {
     "end_time": "2021-05-30T16:34:05.266354Z",
     "start_time": "2021-05-30T16:34:04.228356Z"
    }
   },
   "outputs": [],
   "source": [
    "sleeper_players_df=pd.json_normalize(sleeper_players.json(),max_level=0)"
   ]
  },
  {
   "cell_type": "code",
   "execution_count": 149,
   "metadata": {
    "ExecuteTime": {
     "end_time": "2021-05-30T19:44:10.600241Z",
     "start_time": "2021-05-30T19:44:03.101973Z"
    }
   },
   "outputs": [],
   "source": [
    "player_df=sleeper_players_df.T[0].apply(pd.Series)"
   ]
  },
  {
   "cell_type": "code",
   "execution_count": 212,
   "metadata": {
    "ExecuteTime": {
     "end_time": "2021-05-30T15:43:55.245697Z",
     "start_time": "2021-05-30T15:43:55.231727Z"
    }
   },
   "outputs": [],
   "source": [
    "draft_df['player_name']=draft_df['player_name'].replace(name_dict)"
   ]
  },
  {
   "cell_type": "markdown",
   "metadata": {},
   "source": [
    "### remove the pick and add the player to the teams roster"
   ]
  },
  {
   "cell_type": "code",
   "execution_count": 162,
   "metadata": {
    "ExecuteTime": {
     "end_time": "2021-05-30T19:50:12.273128Z",
     "start_time": "2021-05-30T19:50:12.257905Z"
    },
    "scrolled": true
   },
   "outputs": [],
   "source": [
    "u1=draft_df.iloc[2].players"
   ]
  },
  {
   "cell_type": "code",
   "execution_count": 169,
   "metadata": {
    "ExecuteTime": {
     "end_time": "2021-05-30T19:52:15.074429Z",
     "start_time": "2021-05-30T19:52:15.057439Z"
    }
   },
   "outputs": [
    {
     "data": {
      "text/plain": [
       "array(['Amari Cooper', 'Dak Prescott', 'Leonard Fournette',\n",
       "       'Anthony Firkser', 'Blake Jarwin', 'Dare Ogunbowale',\n",
       "       'Christian Kirk', 'Ito Smith', 'Keke Coutee', 'Dwayne Haskins',\n",
       "       'Noah Fant', 'Tony Pollard', 'Miles Sanders', 'Scott Miller',\n",
       "       'Tua Tagovailoa', 'K.J. Hamler', 'J.K. Dobbins', \"Ke'Shawn Vaughn\",\n",
       "       'DeeJay Dallas', 'Cam Akers', 'Tyler Johnson', 'Marquez Callaway',\n",
       "       'Nick Bowers', 'Anthony Schwartz', 'Amari Rodgers',\n",
       "       'Elijah Mitchell', 'Terrace Marshall', 'Kadarius Toney'],\n",
       "      dtype=object)"
      ]
     },
     "execution_count": 169,
     "metadata": {},
     "output_type": "execute_result"
    }
   ],
   "source": [
    "u1_df=player_df.loc[u1]\n",
    "u1_df['full_name'].values"
   ]
  },
  {
   "cell_type": "code",
   "execution_count": 185,
   "metadata": {
    "ExecuteTime": {
     "end_time": "2021-05-30T20:14:29.611513Z",
     "start_time": "2021-05-30T20:14:29.580234Z"
    }
   },
   "outputs": [],
   "source": [
    "team=ALL[ALL['Full Name'].isin(u1_df['full_name'].values)]"
   ]
  },
  {
   "cell_type": "code",
   "execution_count": 177,
   "metadata": {
    "ExecuteTime": {
     "end_time": "2021-05-30T20:01:51.492913Z",
     "start_time": "2021-05-30T20:01:51.474917Z"
    }
   },
   "outputs": [
    {
     "data": {
      "text/plain": [
       "Series([], Name: Lifetime Value, dtype: float64)"
      ]
     },
     "execution_count": 177,
     "metadata": {},
     "output_type": "execute_result"
    }
   ],
   "source": [
    "me[me['Position']=='QB'].iloc[3:]['Lifetime Value']"
   ]
  },
  {
   "cell_type": "code",
   "execution_count": 208,
   "metadata": {
    "ExecuteTime": {
     "end_time": "2021-05-30T20:32:45.330403Z",
     "start_time": "2021-05-30T20:32:45.321282Z"
    }
   },
   "outputs": [],
   "source": [
    "cols=['QB Starting','QB Backup','QB Depth','RB Starting','RB Backup','RB Depth','WR Starting','WR Backup','WR Depth','TE Starting','TE Backup','TE Depth','Player Value']"
   ]
  },
  {
   "cell_type": "code",
   "execution_count": 179,
   "metadata": {
    "ExecuteTime": {
     "end_time": "2021-05-30T20:05:29.306408Z",
     "start_time": "2021-05-30T20:05:29.273410Z"
    }
   },
   "outputs": [],
   "source": [
    "teams=pd.DataFrame(columns=cols)"
   ]
  },
  {
   "cell_type": "code",
   "execution_count": 186,
   "metadata": {
    "ExecuteTime": {
     "end_time": "2021-05-30T20:14:32.162625Z",
     "start_time": "2021-05-30T20:14:32.070667Z"
    }
   },
   "outputs": [],
   "source": [
    "team_dict= {'QB Starting':team[team['Position']=='QB'].iloc[:2]['Lifetime Value'].sum(),\n",
    "            'QB Backup':team[team['Position']=='QB'].iloc[2]['Lifetime Value'].sum(),\n",
    "            'QB Depth':team[team['Position']=='QB'].iloc[3:]['Lifetime Value'].sum(),\n",
    "            'RB Starting':team[team['Position']=='RB'].iloc[:3]['Lifetime Value'].sum(),\n",
    "            'RB Backup':team[team['Position']=='RB'].iloc[3:5]['Lifetime Value'].sum(),\n",
    "            'RB Depth':team[team['Position']=='RB'].iloc[5:]['Lifetime Value'].sum(),\n",
    "            'WR Starting':team[team['Position']=='WR'].iloc[:5]['Lifetime Value'].sum(),\n",
    "            'WR Backup':team[team['Position']=='WR'].iloc[5:7]['Lifetime Value'].sum(),\n",
    "            'WR Depth':team[team['Position']=='WR'].iloc[7:]['Lifetime Value'].sum(),\n",
    "            'TE Starting':team[team['Position']=='TE'].iloc[:1]['Lifetime Value'].sum(),\n",
    "            'TE Backup':team[team['Position']=='TE'].iloc[1:2]['Lifetime Value'].sum(),\n",
    "            'TE Depth':team[team['Position']=='TE'].iloc[2:]['Lifetime Value'].sum()\n",
    "    \n",
    "}"
   ]
  },
  {
   "cell_type": "code",
   "execution_count": 187,
   "metadata": {
    "ExecuteTime": {
     "end_time": "2021-05-30T20:14:40.415447Z",
     "start_time": "2021-05-30T20:14:40.404751Z"
    }
   },
   "outputs": [
    {
     "data": {
      "text/plain": [
       "{'QB Starting': 514.97,\n",
       " 'QB Backup': 15.23,\n",
       " 'QB Depth': 0.0,\n",
       " 'RB Starting': 622.97,\n",
       " 'RB Backup': 135.88,\n",
       " 'RB Depth': 99.81,\n",
       " 'WR Starting': 358.3,\n",
       " 'WR Backup': 92.50999999999999,\n",
       " 'WR Depth': 102.51,\n",
       " 'TE Starting': 99.82,\n",
       " 'TE Backup': 42.22,\n",
       " 'TE Depth': 35.53}"
      ]
     },
     "execution_count": 187,
     "metadata": {},
     "output_type": "execute_result"
    }
   ],
   "source": [
    "team_dict"
   ]
  },
  {
   "cell_type": "code",
   "execution_count": 191,
   "metadata": {
    "ExecuteTime": {
     "end_time": "2021-05-30T20:17:32.923923Z",
     "start_time": "2021-05-30T20:17:32.898802Z"
    }
   },
   "outputs": [],
   "source": [
    "teams=teams.append(pd.Series(team_dict,name=1))"
   ]
  },
  {
   "cell_type": "code",
   "execution_count": 192,
   "metadata": {
    "ExecuteTime": {
     "end_time": "2021-05-30T20:17:35.086071Z",
     "start_time": "2021-05-30T20:17:35.043942Z"
    }
   },
   "outputs": [
    {
     "data": {
      "text/html": [
       "<div>\n",
       "<style scoped>\n",
       "    .dataframe tbody tr th:only-of-type {\n",
       "        vertical-align: middle;\n",
       "    }\n",
       "\n",
       "    .dataframe tbody tr th {\n",
       "        vertical-align: top;\n",
       "    }\n",
       "\n",
       "    .dataframe thead th {\n",
       "        text-align: right;\n",
       "    }\n",
       "</style>\n",
       "<table border=\"1\" class=\"dataframe\">\n",
       "  <thead>\n",
       "    <tr style=\"text-align: right;\">\n",
       "      <th></th>\n",
       "      <th>QB Starting</th>\n",
       "      <th>QB Backup</th>\n",
       "      <th>QB Depth</th>\n",
       "      <th>RB Starting</th>\n",
       "      <th>RB Backup</th>\n",
       "      <th>RB Depth</th>\n",
       "      <th>WR Starting</th>\n",
       "      <th>WR Backup</th>\n",
       "      <th>WR Depth</th>\n",
       "      <th>TE Starting</th>\n",
       "      <th>TE Backup</th>\n",
       "      <th>TE Depth</th>\n",
       "    </tr>\n",
       "  </thead>\n",
       "  <tbody>\n",
       "    <tr>\n",
       "      <th>1</th>\n",
       "      <td>514.97</td>\n",
       "      <td>15.23</td>\n",
       "      <td>0.0</td>\n",
       "      <td>622.97</td>\n",
       "      <td>135.88</td>\n",
       "      <td>99.81</td>\n",
       "      <td>358.3</td>\n",
       "      <td>92.51</td>\n",
       "      <td>102.51</td>\n",
       "      <td>99.82</td>\n",
       "      <td>42.22</td>\n",
       "      <td>35.53</td>\n",
       "    </tr>\n",
       "  </tbody>\n",
       "</table>\n",
       "</div>"
      ],
      "text/plain": [
       "   QB Starting  QB Backup  QB Depth  RB Starting  RB Backup  RB Depth  \\\n",
       "1       514.97      15.23       0.0       622.97     135.88     99.81   \n",
       "\n",
       "   WR Starting  WR Backup  WR Depth  TE Starting  TE Backup  TE Depth  \n",
       "1        358.3      92.51    102.51        99.82      42.22     35.53  "
      ]
     },
     "execution_count": 192,
     "metadata": {},
     "output_type": "execute_result"
    }
   ],
   "source": [
    "teams"
   ]
  },
  {
   "cell_type": "code",
   "execution_count": null,
   "metadata": {},
   "outputs": [],
   "source": []
  },
  {
   "cell_type": "markdown",
   "metadata": {},
   "source": [
    "### Lets automate it"
   ]
  },
  {
   "cell_type": "code",
   "execution_count": 217,
   "metadata": {
    "ExecuteTime": {
     "end_time": "2021-05-30T20:39:06.959200Z",
     "start_time": "2021-05-30T20:39:06.479068Z"
    }
   },
   "outputs": [],
   "source": [
    "teams=pd.DataFrame(columns=cols)\n",
    "\n",
    "for x in range(12):\n",
    "    u1=draft_df.iloc[x].players\n",
    "    u1_df=player_df.loc[u1]\n",
    "    team=ALL[ALL['Full Name'].isin(u1_df['full_name'].values)]\n",
    "    team_dict= {'QB Starting':team[team['Position']=='QB'].iloc[:2]['Lifetime Value'].sum(),\n",
    "            'QB Backup':team[team['Position']=='QB'].iloc[2]['Lifetime Value'].sum(),\n",
    "            'QB Depth':team[team['Position']=='QB'].iloc[3:]['Lifetime Value'].sum(),\n",
    "            'RB Starting':team[team['Position']=='RB'].iloc[:3]['Lifetime Value'].sum(),\n",
    "            'RB Backup':team[team['Position']=='RB'].iloc[3:5]['Lifetime Value'].sum(),\n",
    "            'RB Depth':team[team['Position']=='RB'].iloc[5:]['Lifetime Value'].sum(),\n",
    "            'WR Starting':team[team['Position']=='WR'].iloc[:5]['Lifetime Value'].sum(),\n",
    "            'WR Backup':team[team['Position']=='WR'].iloc[5:7]['Lifetime Value'].sum(),\n",
    "            'WR Depth':team[team['Position']=='WR'].iloc[7:]['Lifetime Value'].sum(),\n",
    "            'TE Starting':team[team['Position']=='TE'].iloc[:1]['Lifetime Value'].sum(),\n",
    "            'TE Backup':team[team['Position']=='TE'].iloc[1:2]['Lifetime Value'].sum(),\n",
    "            'TE Depth':team[team['Position']=='TE'].iloc[2:]['Lifetime Value'].sum(),\n",
    "            'Player Value':team['Lifetime Value'].sum(),\n",
    "            'Future Pick Value': sum([pick_val[y] for y in picks[x+1]])\n",
    "                \n",
    "            }\n",
    "    teams=teams.append(pd.Series(team_dict,name=x))"
   ]
  },
  {
   "cell_type": "code",
   "execution_count": 218,
   "metadata": {
    "ExecuteTime": {
     "end_time": "2021-05-30T20:39:11.431303Z",
     "start_time": "2021-05-30T20:39:11.223120Z"
    }
   },
   "outputs": [
    {
     "data": {
      "text/html": [
       "<style  type=\"text/css\" >\n",
       "    #T_16e9141c_c187_11eb_aee1_982cbcd5dec7row0_col0 {\n",
       "            background-color:  #fffdbc;\n",
       "            color:  #000000;\n",
       "        }    #T_16e9141c_c187_11eb_aee1_982cbcd5dec7row0_col1 {\n",
       "            background-color:  #fffcba;\n",
       "            color:  #000000;\n",
       "        }    #T_16e9141c_c187_11eb_aee1_982cbcd5dec7row0_col2 {\n",
       "            background-color:  #f5fbb2;\n",
       "            color:  #000000;\n",
       "        }    #T_16e9141c_c187_11eb_aee1_982cbcd5dec7row0_col3 {\n",
       "            background-color:  #f98e52;\n",
       "            color:  #000000;\n",
       "        }    #T_16e9141c_c187_11eb_aee1_982cbcd5dec7row0_col4 {\n",
       "            background-color:  #fdb365;\n",
       "            color:  #000000;\n",
       "        }    #T_16e9141c_c187_11eb_aee1_982cbcd5dec7row0_col5 {\n",
       "            background-color:  #f99153;\n",
       "            color:  #000000;\n",
       "        }    #T_16e9141c_c187_11eb_aee1_982cbcd5dec7row0_col6 {\n",
       "            background-color:  #78c565;\n",
       "            color:  #000000;\n",
       "        }    #T_16e9141c_c187_11eb_aee1_982cbcd5dec7row0_col7 {\n",
       "            background-color:  #c1e57b;\n",
       "            color:  #000000;\n",
       "        }    #T_16e9141c_c187_11eb_aee1_982cbcd5dec7row0_col8 {\n",
       "            background-color:  #b9e176;\n",
       "            color:  #000000;\n",
       "        }    #T_16e9141c_c187_11eb_aee1_982cbcd5dec7row0_col9 {\n",
       "            background-color:  #a5d86a;\n",
       "            color:  #000000;\n",
       "        }    #T_16e9141c_c187_11eb_aee1_982cbcd5dec7row0_col10 {\n",
       "            background-color:  #f98e52;\n",
       "            color:  #000000;\n",
       "        }    #T_16e9141c_c187_11eb_aee1_982cbcd5dec7row0_col11 {\n",
       "            background-color:  #f98e52;\n",
       "            color:  #000000;\n",
       "        }    #T_16e9141c_c187_11eb_aee1_982cbcd5dec7row0_col12 {\n",
       "            background-color:  #fee593;\n",
       "            color:  #000000;\n",
       "        }    #T_16e9141c_c187_11eb_aee1_982cbcd5dec7row0_col13 {\n",
       "            background-color:  #a7d96b;\n",
       "            color:  #000000;\n",
       "        }    #T_16e9141c_c187_11eb_aee1_982cbcd5dec7row1_col0 {\n",
       "            background-color:  #57b65f;\n",
       "            color:  #000000;\n",
       "        }    #T_16e9141c_c187_11eb_aee1_982cbcd5dec7row1_col1 {\n",
       "            background-color:  #fba05b;\n",
       "            color:  #000000;\n",
       "        }    #T_16e9141c_c187_11eb_aee1_982cbcd5dec7row1_col2 {\n",
       "            background-color:  #fdad60;\n",
       "            color:  #000000;\n",
       "        }    #T_16e9141c_c187_11eb_aee1_982cbcd5dec7row1_col3 {\n",
       "            background-color:  #fffbb8;\n",
       "            color:  #000000;\n",
       "        }    #T_16e9141c_c187_11eb_aee1_982cbcd5dec7row1_col4 {\n",
       "            background-color:  #fa9656;\n",
       "            color:  #000000;\n",
       "        }    #T_16e9141c_c187_11eb_aee1_982cbcd5dec7row1_col5 {\n",
       "            background-color:  #fdb768;\n",
       "            color:  #000000;\n",
       "        }    #T_16e9141c_c187_11eb_aee1_982cbcd5dec7row1_col6 {\n",
       "            background-color:  #fece7c;\n",
       "            color:  #000000;\n",
       "        }    #T_16e9141c_c187_11eb_aee1_982cbcd5dec7row1_col7 {\n",
       "            background-color:  #fdb96a;\n",
       "            color:  #000000;\n",
       "        }    #T_16e9141c_c187_11eb_aee1_982cbcd5dec7row1_col8 {\n",
       "            background-color:  #fff2aa;\n",
       "            color:  #000000;\n",
       "        }    #T_16e9141c_c187_11eb_aee1_982cbcd5dec7row1_col9 {\n",
       "            background-color:  #66bd63;\n",
       "            color:  #000000;\n",
       "        }    #T_16e9141c_c187_11eb_aee1_982cbcd5dec7row1_col10 {\n",
       "            background-color:  #bfe47a;\n",
       "            color:  #000000;\n",
       "        }    #T_16e9141c_c187_11eb_aee1_982cbcd5dec7row1_col11 {\n",
       "            background-color:  #fff1a8;\n",
       "            color:  #000000;\n",
       "        }    #T_16e9141c_c187_11eb_aee1_982cbcd5dec7row1_col12 {\n",
       "            background-color:  #feefa3;\n",
       "            color:  #000000;\n",
       "        }    #T_16e9141c_c187_11eb_aee1_982cbcd5dec7row1_col13 {\n",
       "            background-color:  #f7fcb4;\n",
       "            color:  #000000;\n",
       "        }    #T_16e9141c_c187_11eb_aee1_982cbcd5dec7row2_col0 {\n",
       "            background-color:  #4eb15d;\n",
       "            color:  #000000;\n",
       "        }    #T_16e9141c_c187_11eb_aee1_982cbcd5dec7row2_col1 {\n",
       "            background-color:  #f98e52;\n",
       "            color:  #000000;\n",
       "        }    #T_16e9141c_c187_11eb_aee1_982cbcd5dec7row2_col2 {\n",
       "            background-color:  #f98e52;\n",
       "            color:  #000000;\n",
       "        }    #T_16e9141c_c187_11eb_aee1_982cbcd5dec7row2_col3 {\n",
       "            background-color:  #2aa054;\n",
       "            color:  #000000;\n",
       "        }    #T_16e9141c_c187_11eb_aee1_982cbcd5dec7row2_col4 {\n",
       "            background-color:  #2aa054;\n",
       "            color:  #000000;\n",
       "        }    #T_16e9141c_c187_11eb_aee1_982cbcd5dec7row2_col5 {\n",
       "            background-color:  #2aa054;\n",
       "            color:  #000000;\n",
       "        }    #T_16e9141c_c187_11eb_aee1_982cbcd5dec7row2_col6 {\n",
       "            background-color:  #fdb96a;\n",
       "            color:  #000000;\n",
       "        }    #T_16e9141c_c187_11eb_aee1_982cbcd5dec7row2_col7 {\n",
       "            background-color:  #84ca66;\n",
       "            color:  #000000;\n",
       "        }    #T_16e9141c_c187_11eb_aee1_982cbcd5dec7row2_col8 {\n",
       "            background-color:  #54b45f;\n",
       "            color:  #000000;\n",
       "        }    #T_16e9141c_c187_11eb_aee1_982cbcd5dec7row2_col9 {\n",
       "            background-color:  #eef8a8;\n",
       "            color:  #000000;\n",
       "        }    #T_16e9141c_c187_11eb_aee1_982cbcd5dec7row2_col10 {\n",
       "            background-color:  #a9da6c;\n",
       "            color:  #000000;\n",
       "        }    #T_16e9141c_c187_11eb_aee1_982cbcd5dec7row2_col11 {\n",
       "            background-color:  #fffab6;\n",
       "            color:  #000000;\n",
       "        }    #T_16e9141c_c187_11eb_aee1_982cbcd5dec7row2_col12 {\n",
       "            background-color:  #39a758;\n",
       "            color:  #000000;\n",
       "        }    #T_16e9141c_c187_11eb_aee1_982cbcd5dec7row2_col13 {\n",
       "            background-color:  #6bbf64;\n",
       "            color:  #000000;\n",
       "        }    #T_16e9141c_c187_11eb_aee1_982cbcd5dec7row3_col0 {\n",
       "            background-color:  #2aa054;\n",
       "            color:  #000000;\n",
       "        }    #T_16e9141c_c187_11eb_aee1_982cbcd5dec7row3_col1 {\n",
       "            background-color:  #fee28f;\n",
       "            color:  #000000;\n",
       "        }    #T_16e9141c_c187_11eb_aee1_982cbcd5dec7row3_col2 {\n",
       "            background-color:  #fed481;\n",
       "            color:  #000000;\n",
       "        }    #T_16e9141c_c187_11eb_aee1_982cbcd5dec7row3_col3 {\n",
       "            background-color:  #fee28f;\n",
       "            color:  #000000;\n",
       "        }    #T_16e9141c_c187_11eb_aee1_982cbcd5dec7row3_col4 {\n",
       "            background-color:  #fed481;\n",
       "            color:  #000000;\n",
       "        }    #T_16e9141c_c187_11eb_aee1_982cbcd5dec7row3_col5 {\n",
       "            background-color:  #fec877;\n",
       "            color:  #000000;\n",
       "        }    #T_16e9141c_c187_11eb_aee1_982cbcd5dec7row3_col6 {\n",
       "            background-color:  #f98e52;\n",
       "            color:  #000000;\n",
       "        }    #T_16e9141c_c187_11eb_aee1_982cbcd5dec7row3_col7 {\n",
       "            background-color:  #fffdbc;\n",
       "            color:  #000000;\n",
       "        }    #T_16e9141c_c187_11eb_aee1_982cbcd5dec7row3_col8 {\n",
       "            background-color:  #91d068;\n",
       "            color:  #000000;\n",
       "        }    #T_16e9141c_c187_11eb_aee1_982cbcd5dec7row3_col9 {\n",
       "            background-color:  #e0f295;\n",
       "            color:  #000000;\n",
       "        }    #T_16e9141c_c187_11eb_aee1_982cbcd5dec7row3_col10 {\n",
       "            background-color:  #fff3ac;\n",
       "            color:  #000000;\n",
       "        }    #T_16e9141c_c187_11eb_aee1_982cbcd5dec7row3_col11 {\n",
       "            background-color:  #feec9f;\n",
       "            color:  #000000;\n",
       "        }    #T_16e9141c_c187_11eb_aee1_982cbcd5dec7row3_col12 {\n",
       "            background-color:  #fff1a8;\n",
       "            color:  #000000;\n",
       "        }    #T_16e9141c_c187_11eb_aee1_982cbcd5dec7row3_col13 {\n",
       "            background-color:  #feec9f;\n",
       "            color:  #000000;\n",
       "        }    #T_16e9141c_c187_11eb_aee1_982cbcd5dec7row4_col0 {\n",
       "            background-color:  #9dd569;\n",
       "            color:  #000000;\n",
       "        }    #T_16e9141c_c187_11eb_aee1_982cbcd5dec7row4_col1 {\n",
       "            background-color:  #fa9b58;\n",
       "            color:  #000000;\n",
       "        }    #T_16e9141c_c187_11eb_aee1_982cbcd5dec7row4_col2 {\n",
       "            background-color:  #fed27f;\n",
       "            color:  #000000;\n",
       "        }    #T_16e9141c_c187_11eb_aee1_982cbcd5dec7row4_col3 {\n",
       "            background-color:  #fdad60;\n",
       "            color:  #000000;\n",
       "        }    #T_16e9141c_c187_11eb_aee1_982cbcd5dec7row4_col4 {\n",
       "            background-color:  #f98e52;\n",
       "            color:  #000000;\n",
       "        }    #T_16e9141c_c187_11eb_aee1_982cbcd5dec7row4_col5 {\n",
       "            background-color:  #fed07e;\n",
       "            color:  #000000;\n",
       "        }    #T_16e9141c_c187_11eb_aee1_982cbcd5dec7row4_col6 {\n",
       "            background-color:  #eff8aa;\n",
       "            color:  #000000;\n",
       "        }    #T_16e9141c_c187_11eb_aee1_982cbcd5dec7row4_col7 {\n",
       "            background-color:  #f99355;\n",
       "            color:  #000000;\n",
       "        }    #T_16e9141c_c187_11eb_aee1_982cbcd5dec7row4_col8 {\n",
       "            background-color:  #f98e52;\n",
       "            color:  #000000;\n",
       "        }    #T_16e9141c_c187_11eb_aee1_982cbcd5dec7row4_col9 {\n",
       "            background-color:  #f98e52;\n",
       "            color:  #000000;\n",
       "        }    #T_16e9141c_c187_11eb_aee1_982cbcd5dec7row4_col10 {\n",
       "            background-color:  #78c565;\n",
       "            color:  #000000;\n",
       "        }    #T_16e9141c_c187_11eb_aee1_982cbcd5dec7row4_col11 {\n",
       "            background-color:  #fdc171;\n",
       "            color:  #000000;\n",
       "        }    #T_16e9141c_c187_11eb_aee1_982cbcd5dec7row4_col12 {\n",
       "            background-color:  #f98e52;\n",
       "            color:  #000000;\n",
       "        }    #T_16e9141c_c187_11eb_aee1_982cbcd5dec7row4_col13 {\n",
       "            background-color:  #fdc574;\n",
       "            color:  #000000;\n",
       "        }    #T_16e9141c_c187_11eb_aee1_982cbcd5dec7row5_col0 {\n",
       "            background-color:  #c1e57b;\n",
       "            color:  #000000;\n",
       "        }    #T_16e9141c_c187_11eb_aee1_982cbcd5dec7row5_col1 {\n",
       "            background-color:  #2da155;\n",
       "            color:  #000000;\n",
       "        }    #T_16e9141c_c187_11eb_aee1_982cbcd5dec7row5_col2 {\n",
       "            background-color:  #2aa054;\n",
       "            color:  #000000;\n",
       "        }    #T_16e9141c_c187_11eb_aee1_982cbcd5dec7row5_col3 {\n",
       "            background-color:  #51b35e;\n",
       "            color:  #000000;\n",
       "        }    #T_16e9141c_c187_11eb_aee1_982cbcd5dec7row5_col4 {\n",
       "            background-color:  #fdad60;\n",
       "            color:  #000000;\n",
       "        }    #T_16e9141c_c187_11eb_aee1_982cbcd5dec7row5_col5 {\n",
       "            background-color:  #feda86;\n",
       "            color:  #000000;\n",
       "        }    #T_16e9141c_c187_11eb_aee1_982cbcd5dec7row5_col6 {\n",
       "            background-color:  #fee18d;\n",
       "            color:  #000000;\n",
       "        }    #T_16e9141c_c187_11eb_aee1_982cbcd5dec7row5_col7 {\n",
       "            background-color:  #a9da6c;\n",
       "            color:  #000000;\n",
       "        }    #T_16e9141c_c187_11eb_aee1_982cbcd5dec7row5_col8 {\n",
       "            background-color:  #d9ef8b;\n",
       "            color:  #000000;\n",
       "        }    #T_16e9141c_c187_11eb_aee1_982cbcd5dec7row5_col9 {\n",
       "            background-color:  #fdb365;\n",
       "            color:  #000000;\n",
       "        }    #T_16e9141c_c187_11eb_aee1_982cbcd5dec7row5_col10 {\n",
       "            background-color:  #2aa054;\n",
       "            color:  #000000;\n",
       "        }    #T_16e9141c_c187_11eb_aee1_982cbcd5dec7row5_col11 {\n",
       "            background-color:  #2da155;\n",
       "            color:  #000000;\n",
       "        }    #T_16e9141c_c187_11eb_aee1_982cbcd5dec7row5_col12 {\n",
       "            background-color:  #2aa054;\n",
       "            color:  #000000;\n",
       "        }    #T_16e9141c_c187_11eb_aee1_982cbcd5dec7row5_col13 {\n",
       "            background-color:  #fee999;\n",
       "            color:  #000000;\n",
       "        }    #T_16e9141c_c187_11eb_aee1_982cbcd5dec7row6_col0 {\n",
       "            background-color:  #fb9d59;\n",
       "            color:  #000000;\n",
       "        }    #T_16e9141c_c187_11eb_aee1_982cbcd5dec7row6_col1 {\n",
       "            background-color:  #eef8a8;\n",
       "            color:  #000000;\n",
       "        }    #T_16e9141c_c187_11eb_aee1_982cbcd5dec7row6_col2 {\n",
       "            background-color:  #e5f49b;\n",
       "            color:  #000000;\n",
       "        }    #T_16e9141c_c187_11eb_aee1_982cbcd5dec7row6_col3 {\n",
       "            background-color:  #feeda1;\n",
       "            color:  #000000;\n",
       "        }    #T_16e9141c_c187_11eb_aee1_982cbcd5dec7row6_col4 {\n",
       "            background-color:  #d9ef8b;\n",
       "            color:  #000000;\n",
       "        }    #T_16e9141c_c187_11eb_aee1_982cbcd5dec7row6_col5 {\n",
       "            background-color:  #45ad5b;\n",
       "            color:  #000000;\n",
       "        }    #T_16e9141c_c187_11eb_aee1_982cbcd5dec7row6_col6 {\n",
       "            background-color:  #f2faae;\n",
       "            color:  #000000;\n",
       "        }    #T_16e9141c_c187_11eb_aee1_982cbcd5dec7row6_col7 {\n",
       "            background-color:  #f98e52;\n",
       "            color:  #000000;\n",
       "        }    #T_16e9141c_c187_11eb_aee1_982cbcd5dec7row6_col8 {\n",
       "            background-color:  #fee593;\n",
       "            color:  #000000;\n",
       "        }    #T_16e9141c_c187_11eb_aee1_982cbcd5dec7row6_col9 {\n",
       "            background-color:  #fff0a6;\n",
       "            color:  #000000;\n",
       "        }    #T_16e9141c_c187_11eb_aee1_982cbcd5dec7row6_col10 {\n",
       "            background-color:  #30a356;\n",
       "            color:  #000000;\n",
       "        }    #T_16e9141c_c187_11eb_aee1_982cbcd5dec7row6_col11 {\n",
       "            background-color:  #fff0a6;\n",
       "            color:  #000000;\n",
       "        }    #T_16e9141c_c187_11eb_aee1_982cbcd5dec7row6_col12 {\n",
       "            background-color:  #fee491;\n",
       "            color:  #000000;\n",
       "        }    #T_16e9141c_c187_11eb_aee1_982cbcd5dec7row6_col13 {\n",
       "            background-color:  #2aa054;\n",
       "            color:  #000000;\n",
       "        }    #T_16e9141c_c187_11eb_aee1_982cbcd5dec7row7_col0 {\n",
       "            background-color:  #f98e52;\n",
       "            color:  #000000;\n",
       "        }    #T_16e9141c_c187_11eb_aee1_982cbcd5dec7row7_col1 {\n",
       "            background-color:  #f99153;\n",
       "            color:  #000000;\n",
       "        }    #T_16e9141c_c187_11eb_aee1_982cbcd5dec7row7_col2 {\n",
       "            background-color:  #fca85e;\n",
       "            color:  #000000;\n",
       "        }    #T_16e9141c_c187_11eb_aee1_982cbcd5dec7row7_col3 {\n",
       "            background-color:  #a0d669;\n",
       "            color:  #000000;\n",
       "        }    #T_16e9141c_c187_11eb_aee1_982cbcd5dec7row7_col4 {\n",
       "            background-color:  #feda86;\n",
       "            color:  #000000;\n",
       "        }    #T_16e9141c_c187_11eb_aee1_982cbcd5dec7row7_col5 {\n",
       "            background-color:  #fee491;\n",
       "            color:  #000000;\n",
       "        }    #T_16e9141c_c187_11eb_aee1_982cbcd5dec7row7_col6 {\n",
       "            background-color:  #b1de71;\n",
       "            color:  #000000;\n",
       "        }    #T_16e9141c_c187_11eb_aee1_982cbcd5dec7row7_col7 {\n",
       "            background-color:  #fee18d;\n",
       "            color:  #000000;\n",
       "        }    #T_16e9141c_c187_11eb_aee1_982cbcd5dec7row7_col8 {\n",
       "            background-color:  #ecf7a6;\n",
       "            color:  #000000;\n",
       "        }    #T_16e9141c_c187_11eb_aee1_982cbcd5dec7row7_col9 {\n",
       "            background-color:  #fdb163;\n",
       "            color:  #000000;\n",
       "        }    #T_16e9141c_c187_11eb_aee1_982cbcd5dec7row7_col10 {\n",
       "            background-color:  #b7e075;\n",
       "            color:  #000000;\n",
       "        }    #T_16e9141c_c187_11eb_aee1_982cbcd5dec7row7_col11 {\n",
       "            background-color:  #fff1a8;\n",
       "            color:  #000000;\n",
       "        }    #T_16e9141c_c187_11eb_aee1_982cbcd5dec7row7_col12 {\n",
       "            background-color:  #fee999;\n",
       "            color:  #000000;\n",
       "        }    #T_16e9141c_c187_11eb_aee1_982cbcd5dec7row7_col13 {\n",
       "            background-color:  #f98e52;\n",
       "            color:  #000000;\n",
       "        }    #T_16e9141c_c187_11eb_aee1_982cbcd5dec7row8_col0 {\n",
       "            background-color:  #abdb6d;\n",
       "            color:  #000000;\n",
       "        }    #T_16e9141c_c187_11eb_aee1_982cbcd5dec7row8_col1 {\n",
       "            background-color:  #fed884;\n",
       "            color:  #000000;\n",
       "        }    #T_16e9141c_c187_11eb_aee1_982cbcd5dec7row8_col2 {\n",
       "            background-color:  #fed683;\n",
       "            color:  #000000;\n",
       "        }    #T_16e9141c_c187_11eb_aee1_982cbcd5dec7row8_col3 {\n",
       "            background-color:  #fdc776;\n",
       "            color:  #000000;\n",
       "        }    #T_16e9141c_c187_11eb_aee1_982cbcd5dec7row8_col4 {\n",
       "            background-color:  #f99153;\n",
       "            color:  #000000;\n",
       "        }    #T_16e9141c_c187_11eb_aee1_982cbcd5dec7row8_col5 {\n",
       "            background-color:  #f98e52;\n",
       "            color:  #000000;\n",
       "        }    #T_16e9141c_c187_11eb_aee1_982cbcd5dec7row8_col6 {\n",
       "            background-color:  #2aa054;\n",
       "            color:  #000000;\n",
       "        }    #T_16e9141c_c187_11eb_aee1_982cbcd5dec7row8_col7 {\n",
       "            background-color:  #2aa054;\n",
       "            color:  #000000;\n",
       "        }    #T_16e9141c_c187_11eb_aee1_982cbcd5dec7row8_col8 {\n",
       "            background-color:  #2aa054;\n",
       "            color:  #000000;\n",
       "        }    #T_16e9141c_c187_11eb_aee1_982cbcd5dec7row8_col9 {\n",
       "            background-color:  #eef8a8;\n",
       "            color:  #000000;\n",
       "        }    #T_16e9141c_c187_11eb_aee1_982cbcd5dec7row8_col10 {\n",
       "            background-color:  #fba05b;\n",
       "            color:  #000000;\n",
       "        }    #T_16e9141c_c187_11eb_aee1_982cbcd5dec7row8_col11 {\n",
       "            background-color:  #feeb9d;\n",
       "            color:  #000000;\n",
       "        }    #T_16e9141c_c187_11eb_aee1_982cbcd5dec7row8_col12 {\n",
       "            background-color:  #daf08d;\n",
       "            color:  #000000;\n",
       "        }    #T_16e9141c_c187_11eb_aee1_982cbcd5dec7row8_col13 {\n",
       "            background-color:  #f7fcb4;\n",
       "            color:  #000000;\n",
       "        }    #T_16e9141c_c187_11eb_aee1_982cbcd5dec7row9_col0 {\n",
       "            background-color:  #fee18d;\n",
       "            color:  #000000;\n",
       "        }    #T_16e9141c_c187_11eb_aee1_982cbcd5dec7row9_col1 {\n",
       "            background-color:  #feca79;\n",
       "            color:  #000000;\n",
       "        }    #T_16e9141c_c187_11eb_aee1_982cbcd5dec7row9_col2 {\n",
       "            background-color:  #fdad60;\n",
       "            color:  #000000;\n",
       "        }    #T_16e9141c_c187_11eb_aee1_982cbcd5dec7row9_col3 {\n",
       "            background-color:  #ecf7a6;\n",
       "            color:  #000000;\n",
       "        }    #T_16e9141c_c187_11eb_aee1_982cbcd5dec7row9_col4 {\n",
       "            background-color:  #fee18d;\n",
       "            color:  #000000;\n",
       "        }    #T_16e9141c_c187_11eb_aee1_982cbcd5dec7row9_col5 {\n",
       "            background-color:  #f5fbb2;\n",
       "            color:  #000000;\n",
       "        }    #T_16e9141c_c187_11eb_aee1_982cbcd5dec7row9_col6 {\n",
       "            background-color:  #feefa3;\n",
       "            color:  #000000;\n",
       "        }    #T_16e9141c_c187_11eb_aee1_982cbcd5dec7row9_col7 {\n",
       "            background-color:  #fa9656;\n",
       "            color:  #000000;\n",
       "        }    #T_16e9141c_c187_11eb_aee1_982cbcd5dec7row9_col8 {\n",
       "            background-color:  #b5df74;\n",
       "            color:  #000000;\n",
       "        }    #T_16e9141c_c187_11eb_aee1_982cbcd5dec7row9_col9 {\n",
       "            background-color:  #2aa054;\n",
       "            color:  #000000;\n",
       "        }    #T_16e9141c_c187_11eb_aee1_982cbcd5dec7row9_col10 {\n",
       "            background-color:  #fffbb8;\n",
       "            color:  #000000;\n",
       "        }    #T_16e9141c_c187_11eb_aee1_982cbcd5dec7row9_col11 {\n",
       "            background-color:  #fee999;\n",
       "            color:  #000000;\n",
       "        }    #T_16e9141c_c187_11eb_aee1_982cbcd5dec7row9_col12 {\n",
       "            background-color:  #fee797;\n",
       "            color:  #000000;\n",
       "        }    #T_16e9141c_c187_11eb_aee1_982cbcd5dec7row9_col13 {\n",
       "            background-color:  #f7fcb4;\n",
       "            color:  #000000;\n",
       "        }    #T_16e9141c_c187_11eb_aee1_982cbcd5dec7row10_col0 {\n",
       "            background-color:  #dcf08f;\n",
       "            color:  #000000;\n",
       "        }    #T_16e9141c_c187_11eb_aee1_982cbcd5dec7row10_col1 {\n",
       "            background-color:  #fdbb6c;\n",
       "            color:  #000000;\n",
       "        }    #T_16e9141c_c187_11eb_aee1_982cbcd5dec7row10_col2 {\n",
       "            background-color:  #fdb567;\n",
       "            color:  #000000;\n",
       "        }    #T_16e9141c_c187_11eb_aee1_982cbcd5dec7row10_col3 {\n",
       "            background-color:  #b3df72;\n",
       "            color:  #000000;\n",
       "        }    #T_16e9141c_c187_11eb_aee1_982cbcd5dec7row10_col4 {\n",
       "            background-color:  #f7fcb4;\n",
       "            color:  #000000;\n",
       "        }    #T_16e9141c_c187_11eb_aee1_982cbcd5dec7row10_col5 {\n",
       "            background-color:  #45ad5b;\n",
       "            color:  #000000;\n",
       "        }    #T_16e9141c_c187_11eb_aee1_982cbcd5dec7row10_col6 {\n",
       "            background-color:  #f1f9ac;\n",
       "            color:  #000000;\n",
       "        }    #T_16e9141c_c187_11eb_aee1_982cbcd5dec7row10_col7 {\n",
       "            background-color:  #fcaa5f;\n",
       "            color:  #000000;\n",
       "        }    #T_16e9141c_c187_11eb_aee1_982cbcd5dec7row10_col8 {\n",
       "            background-color:  #fdbb6c;\n",
       "            color:  #000000;\n",
       "        }    #T_16e9141c_c187_11eb_aee1_982cbcd5dec7row10_col9 {\n",
       "            background-color:  #7ac665;\n",
       "            color:  #000000;\n",
       "        }    #T_16e9141c_c187_11eb_aee1_982cbcd5dec7row10_col10 {\n",
       "            background-color:  #fed07e;\n",
       "            color:  #000000;\n",
       "        }    #T_16e9141c_c187_11eb_aee1_982cbcd5dec7row10_col11 {\n",
       "            background-color:  #f98e52;\n",
       "            color:  #000000;\n",
       "        }    #T_16e9141c_c187_11eb_aee1_982cbcd5dec7row10_col12 {\n",
       "            background-color:  #e6f59d;\n",
       "            color:  #000000;\n",
       "        }    #T_16e9141c_c187_11eb_aee1_982cbcd5dec7row10_col13 {\n",
       "            background-color:  #f7fcb4;\n",
       "            color:  #000000;\n",
       "        }    #T_16e9141c_c187_11eb_aee1_982cbcd5dec7row11_col0 {\n",
       "            background-color:  #f7fcb4;\n",
       "            color:  #000000;\n",
       "        }    #T_16e9141c_c187_11eb_aee1_982cbcd5dec7row11_col1 {\n",
       "            background-color:  #fff0a6;\n",
       "            color:  #000000;\n",
       "        }    #T_16e9141c_c187_11eb_aee1_982cbcd5dec7row11_col2 {\n",
       "            background-color:  #fee695;\n",
       "            color:  #000000;\n",
       "        }    #T_16e9141c_c187_11eb_aee1_982cbcd5dec7row11_col3 {\n",
       "            background-color:  #63bc62;\n",
       "            color:  #000000;\n",
       "        }    #T_16e9141c_c187_11eb_aee1_982cbcd5dec7row11_col4 {\n",
       "            background-color:  #fba05b;\n",
       "            color:  #000000;\n",
       "        }    #T_16e9141c_c187_11eb_aee1_982cbcd5dec7row11_col5 {\n",
       "            background-color:  #fdb365;\n",
       "            color:  #000000;\n",
       "        }    #T_16e9141c_c187_11eb_aee1_982cbcd5dec7row11_col6 {\n",
       "            background-color:  #fee18d;\n",
       "            color:  #000000;\n",
       "        }    #T_16e9141c_c187_11eb_aee1_982cbcd5dec7row11_col7 {\n",
       "            background-color:  #fffcba;\n",
       "            color:  #000000;\n",
       "        }    #T_16e9141c_c187_11eb_aee1_982cbcd5dec7row11_col8 {\n",
       "            background-color:  #fee999;\n",
       "            color:  #000000;\n",
       "        }    #T_16e9141c_c187_11eb_aee1_982cbcd5dec7row11_col9 {\n",
       "            background-color:  #f99355;\n",
       "            color:  #000000;\n",
       "        }    #T_16e9141c_c187_11eb_aee1_982cbcd5dec7row11_col10 {\n",
       "            background-color:  #87cb67;\n",
       "            color:  #000000;\n",
       "        }    #T_16e9141c_c187_11eb_aee1_982cbcd5dec7row11_col11 {\n",
       "            background-color:  #feca79;\n",
       "            color:  #000000;\n",
       "        }    #T_16e9141c_c187_11eb_aee1_982cbcd5dec7row11_col12 {\n",
       "            background-color:  #feffbe;\n",
       "            color:  #000000;\n",
       "        }    #T_16e9141c_c187_11eb_aee1_982cbcd5dec7row11_col13 {\n",
       "            background-color:  #fdc574;\n",
       "            color:  #000000;\n",
       "        }</style><table id=\"T_16e9141c_c187_11eb_aee1_982cbcd5dec7\" ><thead>    <tr>        <th class=\"blank level0\" ></th>        <th class=\"col_heading level0 col0\" >QB Starting</th>        <th class=\"col_heading level0 col1\" >QB Backup</th>        <th class=\"col_heading level0 col2\" >QB Depth</th>        <th class=\"col_heading level0 col3\" >RB Starting</th>        <th class=\"col_heading level0 col4\" >RB Backup</th>        <th class=\"col_heading level0 col5\" >RB Depth</th>        <th class=\"col_heading level0 col6\" >WR Starting</th>        <th class=\"col_heading level0 col7\" >WR Backup</th>        <th class=\"col_heading level0 col8\" >WR Depth</th>        <th class=\"col_heading level0 col9\" >TE Starting</th>        <th class=\"col_heading level0 col10\" >TE Backup</th>        <th class=\"col_heading level0 col11\" >TE Depth</th>        <th class=\"col_heading level0 col12\" >Player Value</th>        <th class=\"col_heading level0 col13\" >Future Pick Value</th>    </tr></thead><tbody>\n",
       "                <tr>\n",
       "                        <th id=\"T_16e9141c_c187_11eb_aee1_982cbcd5dec7level0_row0\" class=\"row_heading level0 row0\" >0</th>\n",
       "                        <td id=\"T_16e9141c_c187_11eb_aee1_982cbcd5dec7row0_col0\" class=\"data row0 col0\" >348.160000</td>\n",
       "                        <td id=\"T_16e9141c_c187_11eb_aee1_982cbcd5dec7row0_col1\" class=\"data row0 col1\" >67.450000</td>\n",
       "                        <td id=\"T_16e9141c_c187_11eb_aee1_982cbcd5dec7row0_col2\" class=\"data row0 col2\" >65.050000</td>\n",
       "                        <td id=\"T_16e9141c_c187_11eb_aee1_982cbcd5dec7row0_col3\" class=\"data row0 col3\" >201.620000</td>\n",
       "                        <td id=\"T_16e9141c_c187_11eb_aee1_982cbcd5dec7row0_col4\" class=\"data row0 col4\" >47.970000</td>\n",
       "                        <td id=\"T_16e9141c_c187_11eb_aee1_982cbcd5dec7row0_col5\" class=\"data row0 col5\" >15.740000</td>\n",
       "                        <td id=\"T_16e9141c_c187_11eb_aee1_982cbcd5dec7row0_col6\" class=\"data row0 col6\" >559.590000</td>\n",
       "                        <td id=\"T_16e9141c_c187_11eb_aee1_982cbcd5dec7row0_col7\" class=\"data row0 col7\" >80.900000</td>\n",
       "                        <td id=\"T_16e9141c_c187_11eb_aee1_982cbcd5dec7row0_col8\" class=\"data row0 col8\" >73.970000</td>\n",
       "                        <td id=\"T_16e9141c_c187_11eb_aee1_982cbcd5dec7row0_col9\" class=\"data row0 col9\" >126.750000</td>\n",
       "                        <td id=\"T_16e9141c_c187_11eb_aee1_982cbcd5dec7row0_col10\" class=\"data row0 col10\" >18.380000</td>\n",
       "                        <td id=\"T_16e9141c_c187_11eb_aee1_982cbcd5dec7row0_col11\" class=\"data row0 col11\" >0.000000</td>\n",
       "                        <td id=\"T_16e9141c_c187_11eb_aee1_982cbcd5dec7row0_col12\" class=\"data row0 col12\" >1605.580000</td>\n",
       "                        <td id=\"T_16e9141c_c187_11eb_aee1_982cbcd5dec7row0_col13\" class=\"data row0 col13\" >288.000000</td>\n",
       "            </tr>\n",
       "            <tr>\n",
       "                        <th id=\"T_16e9141c_c187_11eb_aee1_982cbcd5dec7level0_row1\" class=\"row_heading level0 row1\" >1</th>\n",
       "                        <td id=\"T_16e9141c_c187_11eb_aee1_982cbcd5dec7row1_col0\" class=\"data row1 col0\" >507.820000</td>\n",
       "                        <td id=\"T_16e9141c_c187_11eb_aee1_982cbcd5dec7row1_col1\" class=\"data row1 col1\" >21.180000</td>\n",
       "                        <td id=\"T_16e9141c_c187_11eb_aee1_982cbcd5dec7row1_col2\" class=\"data row1 col2\" >11.250000</td>\n",
       "                        <td id=\"T_16e9141c_c187_11eb_aee1_982cbcd5dec7row1_col3\" class=\"data row1 col3\" >360.590000</td>\n",
       "                        <td id=\"T_16e9141c_c187_11eb_aee1_982cbcd5dec7row1_col4\" class=\"data row1 col4\" >41.080000</td>\n",
       "                        <td id=\"T_16e9141c_c187_11eb_aee1_982cbcd5dec7row1_col5\" class=\"data row1 col5\" >24.310000</td>\n",
       "                        <td id=\"T_16e9141c_c187_11eb_aee1_982cbcd5dec7row1_col6\" class=\"data row1 col6\" >377.610000</td>\n",
       "                        <td id=\"T_16e9141c_c187_11eb_aee1_982cbcd5dec7row1_col7\" class=\"data row1 col7\" >45.090000</td>\n",
       "                        <td id=\"T_16e9141c_c187_11eb_aee1_982cbcd5dec7row1_col8\" class=\"data row1 col8\" >37.780000</td>\n",
       "                        <td id=\"T_16e9141c_c187_11eb_aee1_982cbcd5dec7row1_col9\" class=\"data row1 col9\" >143.270000</td>\n",
       "                        <td id=\"T_16e9141c_c187_11eb_aee1_982cbcd5dec7row1_col10\" class=\"data row1 col10\" >40.000000</td>\n",
       "                        <td id=\"T_16e9141c_c187_11eb_aee1_982cbcd5dec7row1_col11\" class=\"data row1 col11\" >31.190000</td>\n",
       "                        <td id=\"T_16e9141c_c187_11eb_aee1_982cbcd5dec7row1_col12\" class=\"data row1 col12\" >1641.170000</td>\n",
       "                        <td id=\"T_16e9141c_c187_11eb_aee1_982cbcd5dec7row1_col13\" class=\"data row1 col13\" >192.000000</td>\n",
       "            </tr>\n",
       "            <tr>\n",
       "                        <th id=\"T_16e9141c_c187_11eb_aee1_982cbcd5dec7level0_row2\" class=\"row_heading level0 row2\" >2</th>\n",
       "                        <td id=\"T_16e9141c_c187_11eb_aee1_982cbcd5dec7row2_col0\" class=\"data row2 col0\" >514.970000</td>\n",
       "                        <td id=\"T_16e9141c_c187_11eb_aee1_982cbcd5dec7row2_col1\" class=\"data row2 col1\" >15.230000</td>\n",
       "                        <td id=\"T_16e9141c_c187_11eb_aee1_982cbcd5dec7row2_col2\" class=\"data row2 col2\" >0.000000</td>\n",
       "                        <td id=\"T_16e9141c_c187_11eb_aee1_982cbcd5dec7row2_col3\" class=\"data row2 col3\" >622.970000</td>\n",
       "                        <td id=\"T_16e9141c_c187_11eb_aee1_982cbcd5dec7row2_col4\" class=\"data row2 col4\" >135.880000</td>\n",
       "                        <td id=\"T_16e9141c_c187_11eb_aee1_982cbcd5dec7row2_col5\" class=\"data row2 col5\" >99.810000</td>\n",
       "                        <td id=\"T_16e9141c_c187_11eb_aee1_982cbcd5dec7row2_col6\" class=\"data row2 col6\" >358.300000</td>\n",
       "                        <td id=\"T_16e9141c_c187_11eb_aee1_982cbcd5dec7row2_col7\" class=\"data row2 col7\" >92.510000</td>\n",
       "                        <td id=\"T_16e9141c_c187_11eb_aee1_982cbcd5dec7row2_col8\" class=\"data row2 col8\" >102.510000</td>\n",
       "                        <td id=\"T_16e9141c_c187_11eb_aee1_982cbcd5dec7row2_col9\" class=\"data row2 col9\" >99.820000</td>\n",
       "                        <td id=\"T_16e9141c_c187_11eb_aee1_982cbcd5dec7row2_col10\" class=\"data row2 col10\" >42.220000</td>\n",
       "                        <td id=\"T_16e9141c_c187_11eb_aee1_982cbcd5dec7row2_col11\" class=\"data row2 col11\" >35.530000</td>\n",
       "                        <td id=\"T_16e9141c_c187_11eb_aee1_982cbcd5dec7row2_col12\" class=\"data row2 col12\" >2119.750000</td>\n",
       "                        <td id=\"T_16e9141c_c187_11eb_aee1_982cbcd5dec7row2_col13\" class=\"data row2 col13\" >339.000000</td>\n",
       "            </tr>\n",
       "            <tr>\n",
       "                        <th id=\"T_16e9141c_c187_11eb_aee1_982cbcd5dec7level0_row3\" class=\"row_heading level0 row3\" >3</th>\n",
       "                        <td id=\"T_16e9141c_c187_11eb_aee1_982cbcd5dec7row3_col0\" class=\"data row3 col0\" >536.410000</td>\n",
       "                        <td id=\"T_16e9141c_c187_11eb_aee1_982cbcd5dec7row3_col1\" class=\"data row3 col1\" >49.250000</td>\n",
       "                        <td id=\"T_16e9141c_c187_11eb_aee1_982cbcd5dec7row3_col2\" class=\"data row3 col2\" >29.840000</td>\n",
       "                        <td id=\"T_16e9141c_c187_11eb_aee1_982cbcd5dec7row3_col3\" class=\"data row3 col3\" >307.530000</td>\n",
       "                        <td id=\"T_16e9141c_c187_11eb_aee1_982cbcd5dec7row3_col4\" class=\"data row3 col4\" >58.610000</td>\n",
       "                        <td id=\"T_16e9141c_c187_11eb_aee1_982cbcd5dec7row3_col5\" class=\"data row3 col5\" >29.060000</td>\n",
       "                        <td id=\"T_16e9141c_c187_11eb_aee1_982cbcd5dec7row3_col6\" class=\"data row3 col6\" >325.210000</td>\n",
       "                        <td id=\"T_16e9141c_c187_11eb_aee1_982cbcd5dec7row3_col7\" class=\"data row3 col7\" >63.980000</td>\n",
       "                        <td id=\"T_16e9141c_c187_11eb_aee1_982cbcd5dec7row3_col8\" class=\"data row3 col8\" >86.540000</td>\n",
       "                        <td id=\"T_16e9141c_c187_11eb_aee1_982cbcd5dec7row3_col9\" class=\"data row3 col9\" >105.610000</td>\n",
       "                        <td id=\"T_16e9141c_c187_11eb_aee1_982cbcd5dec7row3_col10\" class=\"data row3 col10\" >29.940000</td>\n",
       "                        <td id=\"T_16e9141c_c187_11eb_aee1_982cbcd5dec7row3_col11\" class=\"data row3 col11\" >28.790000</td>\n",
       "                        <td id=\"T_16e9141c_c187_11eb_aee1_982cbcd5dec7row3_col12\" class=\"data row3 col12\" >1650.770000</td>\n",
       "                        <td id=\"T_16e9141c_c187_11eb_aee1_982cbcd5dec7row3_col13\" class=\"data row3 col13\" >147.000000</td>\n",
       "            </tr>\n",
       "            <tr>\n",
       "                        <th id=\"T_16e9141c_c187_11eb_aee1_982cbcd5dec7level0_row4\" class=\"row_heading level0 row4\" >4</th>\n",
       "                        <td id=\"T_16e9141c_c187_11eb_aee1_982cbcd5dec7row4_col0\" class=\"data row4 col0\" >456.430000</td>\n",
       "                        <td id=\"T_16e9141c_c187_11eb_aee1_982cbcd5dec7row4_col1\" class=\"data row4 col1\" >19.560000</td>\n",
       "                        <td id=\"T_16e9141c_c187_11eb_aee1_982cbcd5dec7row4_col2\" class=\"data row4 col2\" >28.730000</td>\n",
       "                        <td id=\"T_16e9141c_c187_11eb_aee1_982cbcd5dec7row4_col3\" class=\"data row4 col3\" >235.410000</td>\n",
       "                        <td id=\"T_16e9141c_c187_11eb_aee1_982cbcd5dec7row4_col4\" class=\"data row4 col4\" >38.740000</td>\n",
       "                        <td id=\"T_16e9141c_c187_11eb_aee1_982cbcd5dec7row4_col5\" class=\"data row4 col5\" >31.240000</td>\n",
       "                        <td id=\"T_16e9141c_c187_11eb_aee1_982cbcd5dec7row4_col6\" class=\"data row4 col6\" >455.370000</td>\n",
       "                        <td id=\"T_16e9141c_c187_11eb_aee1_982cbcd5dec7row4_col7\" class=\"data row4 col7\" >38.350000</td>\n",
       "                        <td id=\"T_16e9141c_c187_11eb_aee1_982cbcd5dec7row4_col8\" class=\"data row4 col8\" >0.000000</td>\n",
       "                        <td id=\"T_16e9141c_c187_11eb_aee1_982cbcd5dec7row4_col9\" class=\"data row4 col9\" >48.430000</td>\n",
       "                        <td id=\"T_16e9141c_c187_11eb_aee1_982cbcd5dec7row4_col10\" class=\"data row4 col10\" >46.510000</td>\n",
       "                        <td id=\"T_16e9141c_c187_11eb_aee1_982cbcd5dec7row4_col11\" class=\"data row4 col11\" >13.370000</td>\n",
       "                        <td id=\"T_16e9141c_c187_11eb_aee1_982cbcd5dec7row4_col12\" class=\"data row4 col12\" >1412.140000</td>\n",
       "                        <td id=\"T_16e9141c_c187_11eb_aee1_982cbcd5dec7row4_col13\" class=\"data row4 col13\" >96.000000</td>\n",
       "            </tr>\n",
       "            <tr>\n",
       "                        <th id=\"T_16e9141c_c187_11eb_aee1_982cbcd5dec7level0_row5\" class=\"row_heading level0 row5\" >5</th>\n",
       "                        <td id=\"T_16e9141c_c187_11eb_aee1_982cbcd5dec7row5_col0\" class=\"data row5 col0\" >422.900000</td>\n",
       "                        <td id=\"T_16e9141c_c187_11eb_aee1_982cbcd5dec7row5_col1\" class=\"data row5 col1\" >150.860000</td>\n",
       "                        <td id=\"T_16e9141c_c187_11eb_aee1_982cbcd5dec7row5_col2\" class=\"data row5 col2\" >147.040000</td>\n",
       "                        <td id=\"T_16e9141c_c187_11eb_aee1_982cbcd5dec7row5_col3\" class=\"data row5 col3\" >590.830000</td>\n",
       "                        <td id=\"T_16e9141c_c187_11eb_aee1_982cbcd5dec7row5_col4\" class=\"data row5 col4\" >46.610000</td>\n",
       "                        <td id=\"T_16e9141c_c187_11eb_aee1_982cbcd5dec7row5_col5\" class=\"data row5 col5\" >34.020000</td>\n",
       "                        <td id=\"T_16e9141c_c187_11eb_aee1_982cbcd5dec7row5_col6\" class=\"data row5 col6\" >395.280000</td>\n",
       "                        <td id=\"T_16e9141c_c187_11eb_aee1_982cbcd5dec7row5_col7\" class=\"data row5 col7\" >86.220000</td>\n",
       "                        <td id=\"T_16e9141c_c187_11eb_aee1_982cbcd5dec7row5_col8\" class=\"data row5 col8\" >62.470000</td>\n",
       "                        <td id=\"T_16e9141c_c187_11eb_aee1_982cbcd5dec7row5_col9\" class=\"data row5 col9\" >58.900000</td>\n",
       "                        <td id=\"T_16e9141c_c187_11eb_aee1_982cbcd5dec7row5_col10\" class=\"data row5 col10\" >52.030000</td>\n",
       "                        <td id=\"T_16e9141c_c187_11eb_aee1_982cbcd5dec7row5_col11\" class=\"data row5 col11\" >95.010000</td>\n",
       "                        <td id=\"T_16e9141c_c187_11eb_aee1_982cbcd5dec7row5_col12\" class=\"data row5 col12\" >2142.170000</td>\n",
       "                        <td id=\"T_16e9141c_c187_11eb_aee1_982cbcd5dec7row5_col13\" class=\"data row5 col13\" >141.000000</td>\n",
       "            </tr>\n",
       "            <tr>\n",
       "                        <th id=\"T_16e9141c_c187_11eb_aee1_982cbcd5dec7level0_row6\" class=\"row_heading level0 row6\" >6</th>\n",
       "                        <td id=\"T_16e9141c_c187_11eb_aee1_982cbcd5dec7row6_col0\" class=\"data row6 col0\" >240.240000</td>\n",
       "                        <td id=\"T_16e9141c_c187_11eb_aee1_982cbcd5dec7row6_col1\" class=\"data row6 col1\" >79.400000</td>\n",
       "                        <td id=\"T_16e9141c_c187_11eb_aee1_982cbcd5dec7row6_col2\" class=\"data row6 col2\" >75.230000</td>\n",
       "                        <td id=\"T_16e9141c_c187_11eb_aee1_982cbcd5dec7row6_col3\" class=\"data row6 col3\" >332.560000</td>\n",
       "                        <td id=\"T_16e9141c_c187_11eb_aee1_982cbcd5dec7row6_col4\" class=\"data row6 col4\" >93.080000</td>\n",
       "                        <td id=\"T_16e9141c_c187_11eb_aee1_982cbcd5dec7row6_col5\" class=\"data row6 col5\" >95.440000</td>\n",
       "                        <td id=\"T_16e9141c_c187_11eb_aee1_982cbcd5dec7row6_col6\" class=\"data row6 col6\" >453.470000</td>\n",
       "                        <td id=\"T_16e9141c_c187_11eb_aee1_982cbcd5dec7row6_col7\" class=\"data row6 col7\" >37.230000</td>\n",
       "                        <td id=\"T_16e9141c_c187_11eb_aee1_982cbcd5dec7row6_col8\" class=\"data row6 col8\" >29.840000</td>\n",
       "                        <td id=\"T_16e9141c_c187_11eb_aee1_982cbcd5dec7row6_col9\" class=\"data row6 col9\" >83.170000</td>\n",
       "                        <td id=\"T_16e9141c_c187_11eb_aee1_982cbcd5dec7row6_col10\" class=\"data row6 col10\" >51.680000</td>\n",
       "                        <td id=\"T_16e9141c_c187_11eb_aee1_982cbcd5dec7row6_col11\" class=\"data row6 col11\" >30.730000</td>\n",
       "                        <td id=\"T_16e9141c_c187_11eb_aee1_982cbcd5dec7row6_col12\" class=\"data row6 col12\" >1602.070000</td>\n",
       "                        <td id=\"T_16e9141c_c187_11eb_aee1_982cbcd5dec7row6_col13\" class=\"data row6 col13\" >384.000000</td>\n",
       "            </tr>\n",
       "            <tr>\n",
       "                        <th id=\"T_16e9141c_c187_11eb_aee1_982cbcd5dec7level0_row7\" class=\"row_heading level0 row7\" >7</th>\n",
       "                        <td id=\"T_16e9141c_c187_11eb_aee1_982cbcd5dec7row7_col0\" class=\"data row7 col0\" >227.780000</td>\n",
       "                        <td id=\"T_16e9141c_c187_11eb_aee1_982cbcd5dec7row7_col1\" class=\"data row7 col1\" >16.130000</td>\n",
       "                        <td id=\"T_16e9141c_c187_11eb_aee1_982cbcd5dec7row7_col2\" class=\"data row7 col2\" >10.000000</td>\n",
       "                        <td id=\"T_16e9141c_c187_11eb_aee1_982cbcd5dec7row7_col3\" class=\"data row7 col3\" >510.810000</td>\n",
       "                        <td id=\"T_16e9141c_c187_11eb_aee1_982cbcd5dec7row7_col4\" class=\"data row7 col4\" >60.170000</td>\n",
       "                        <td id=\"T_16e9141c_c187_11eb_aee1_982cbcd5dec7row7_col5\" class=\"data row7 col5\" >37.010000</td>\n",
       "                        <td id=\"T_16e9141c_c187_11eb_aee1_982cbcd5dec7row7_col6\" class=\"data row7 col6\" >517.630000</td>\n",
       "                        <td id=\"T_16e9141c_c187_11eb_aee1_982cbcd5dec7row7_col7\" class=\"data row7 col7\" >54.410000</td>\n",
       "                        <td id=\"T_16e9141c_c187_11eb_aee1_982cbcd5dec7row7_col8\" class=\"data row7 col8\" >53.480000</td>\n",
       "                        <td id=\"T_16e9141c_c187_11eb_aee1_982cbcd5dec7row7_col9\" class=\"data row7 col9\" >58.090000</td>\n",
       "                        <td id=\"T_16e9141c_c187_11eb_aee1_982cbcd5dec7row7_col10\" class=\"data row7 col10\" >40.860000</td>\n",
       "                        <td id=\"T_16e9141c_c187_11eb_aee1_982cbcd5dec7row7_col11\" class=\"data row7 col11\" >31.290000</td>\n",
       "                        <td id=\"T_16e9141c_c187_11eb_aee1_982cbcd5dec7row7_col12\" class=\"data row7 col12\" >1617.660000</td>\n",
       "                        <td id=\"T_16e9141c_c187_11eb_aee1_982cbcd5dec7row7_col13\" class=\"data row7 col13\" >45.000000</td>\n",
       "            </tr>\n",
       "            <tr>\n",
       "                        <th id=\"T_16e9141c_c187_11eb_aee1_982cbcd5dec7level0_row8\" class=\"row_heading level0 row8\" >8</th>\n",
       "                        <td id=\"T_16e9141c_c187_11eb_aee1_982cbcd5dec7row8_col0\" class=\"data row8 col0\" >444.590000</td>\n",
       "                        <td id=\"T_16e9141c_c187_11eb_aee1_982cbcd5dec7row8_col1\" class=\"data row8 col1\" >44.480000</td>\n",
       "                        <td id=\"T_16e9141c_c187_11eb_aee1_982cbcd5dec7row8_col2\" class=\"data row8 col2\" >30.610000</td>\n",
       "                        <td id=\"T_16e9141c_c187_11eb_aee1_982cbcd5dec7row8_col3\" class=\"data row8 col3\" >268.460000</td>\n",
       "                        <td id=\"T_16e9141c_c187_11eb_aee1_982cbcd5dec7row8_col4\" class=\"data row8 col4\" >39.550000</td>\n",
       "                        <td id=\"T_16e9141c_c187_11eb_aee1_982cbcd5dec7row8_col5\" class=\"data row8 col5\" >14.950000</td>\n",
       "                        <td id=\"T_16e9141c_c187_11eb_aee1_982cbcd5dec7row8_col6\" class=\"data row8 col6\" >606.470000</td>\n",
       "                        <td id=\"T_16e9141c_c187_11eb_aee1_982cbcd5dec7row8_col7\" class=\"data row8 col7\" >106.220000</td>\n",
       "                        <td id=\"T_16e9141c_c187_11eb_aee1_982cbcd5dec7row8_col8\" class=\"data row8 col8\" >112.130000</td>\n",
       "                        <td id=\"T_16e9141c_c187_11eb_aee1_982cbcd5dec7row8_col9\" class=\"data row8 col9\" >99.750000</td>\n",
       "                        <td id=\"T_16e9141c_c187_11eb_aee1_982cbcd5dec7row8_col10\" class=\"data row8 col10\" >19.940000</td>\n",
       "                        <td id=\"T_16e9141c_c187_11eb_aee1_982cbcd5dec7row8_col11\" class=\"data row8 col11\" >27.970000</td>\n",
       "                        <td id=\"T_16e9141c_c187_11eb_aee1_982cbcd5dec7row8_col12\" class=\"data row8 col12\" >1815.120000</td>\n",
       "                        <td id=\"T_16e9141c_c187_11eb_aee1_982cbcd5dec7row8_col13\" class=\"data row8 col13\" >192.000000</td>\n",
       "            </tr>\n",
       "            <tr>\n",
       "                        <th id=\"T_16e9141c_c187_11eb_aee1_982cbcd5dec7level0_row9\" class=\"row_heading level0 row9\" >9</th>\n",
       "                        <td id=\"T_16e9141c_c187_11eb_aee1_982cbcd5dec7row9_col0\" class=\"data row9 col0\" >304.850000</td>\n",
       "                        <td id=\"T_16e9141c_c187_11eb_aee1_982cbcd5dec7row9_col1\" class=\"data row9 col1\" >38.560000</td>\n",
       "                        <td id=\"T_16e9141c_c187_11eb_aee1_982cbcd5dec7row9_col2\" class=\"data row9 col2\" >11.800000</td>\n",
       "                        <td id=\"T_16e9141c_c187_11eb_aee1_982cbcd5dec7row9_col3\" class=\"data row9 col3\" >402.480000</td>\n",
       "                        <td id=\"T_16e9141c_c187_11eb_aee1_982cbcd5dec7row9_col4\" class=\"data row9 col4\" >62.910000</td>\n",
       "                        <td id=\"T_16e9141c_c187_11eb_aee1_982cbcd5dec7row9_col5\" class=\"data row9 col5\" >52.280000</td>\n",
       "                        <td id=\"T_16e9141c_c187_11eb_aee1_982cbcd5dec7row9_col6\" class=\"data row9 col6\" >414.730000</td>\n",
       "                        <td id=\"T_16e9141c_c187_11eb_aee1_982cbcd5dec7row9_col7\" class=\"data row9 col7\" >38.930000</td>\n",
       "                        <td id=\"T_16e9141c_c187_11eb_aee1_982cbcd5dec7row9_col8\" class=\"data row9 col8\" >75.320000</td>\n",
       "                        <td id=\"T_16e9141c_c187_11eb_aee1_982cbcd5dec7row9_col9\" class=\"data row9 col9\" >156.650000</td>\n",
       "                        <td id=\"T_16e9141c_c187_11eb_aee1_982cbcd5dec7row9_col10\" class=\"data row9 col10\" >31.010000</td>\n",
       "                        <td id=\"T_16e9141c_c187_11eb_aee1_982cbcd5dec7row9_col11\" class=\"data row9 col11\" >27.020000</td>\n",
       "                        <td id=\"T_16e9141c_c187_11eb_aee1_982cbcd5dec7row9_col12\" class=\"data row9 col12\" >1616.540000</td>\n",
       "                        <td id=\"T_16e9141c_c187_11eb_aee1_982cbcd5dec7row9_col13\" class=\"data row9 col13\" >192.000000</td>\n",
       "            </tr>\n",
       "            <tr>\n",
       "                        <th id=\"T_16e9141c_c187_11eb_aee1_982cbcd5dec7level0_row10\" class=\"row_heading level0 row10\" >10</th>\n",
       "                        <td id=\"T_16e9141c_c187_11eb_aee1_982cbcd5dec7row10_col0\" class=\"data row10 col0\" >396.040000</td>\n",
       "                        <td id=\"T_16e9141c_c187_11eb_aee1_982cbcd5dec7row10_col1\" class=\"data row10 col1\" >31.430000</td>\n",
       "                        <td id=\"T_16e9141c_c187_11eb_aee1_982cbcd5dec7row10_col2\" class=\"data row10 col2\" >15.320000</td>\n",
       "                        <td id=\"T_16e9141c_c187_11eb_aee1_982cbcd5dec7row10_col3\" class=\"data row10 col3\" >487.700000</td>\n",
       "                        <td id=\"T_16e9141c_c187_11eb_aee1_982cbcd5dec7row10_col4\" class=\"data row10 col4\" >80.980000</td>\n",
       "                        <td id=\"T_16e9141c_c187_11eb_aee1_982cbcd5dec7row10_col5\" class=\"data row10 col5\" >95.100000</td>\n",
       "                        <td id=\"T_16e9141c_c187_11eb_aee1_982cbcd5dec7row10_col6\" class=\"data row10 col6\" >454.710000</td>\n",
       "                        <td id=\"T_16e9141c_c187_11eb_aee1_982cbcd5dec7row10_col7\" class=\"data row10 col7\" >42.350000</td>\n",
       "                        <td id=\"T_16e9141c_c187_11eb_aee1_982cbcd5dec7row10_col8\" class=\"data row10 col8\" >13.710000</td>\n",
       "                        <td id=\"T_16e9141c_c187_11eb_aee1_982cbcd5dec7row10_col9\" class=\"data row10 col9\" >138.180000</td>\n",
       "                        <td id=\"T_16e9141c_c187_11eb_aee1_982cbcd5dec7row10_col10\" class=\"data row10 col10\" >24.760000</td>\n",
       "                        <td id=\"T_16e9141c_c187_11eb_aee1_982cbcd5dec7row10_col11\" class=\"data row10 col11\" >0.000000</td>\n",
       "                        <td id=\"T_16e9141c_c187_11eb_aee1_982cbcd5dec7row10_col12\" class=\"data row10 col12\" >1780.280000</td>\n",
       "                        <td id=\"T_16e9141c_c187_11eb_aee1_982cbcd5dec7row10_col13\" class=\"data row10 col13\" >192.000000</td>\n",
       "            </tr>\n",
       "            <tr>\n",
       "                        <th id=\"T_16e9141c_c187_11eb_aee1_982cbcd5dec7level0_row11\" class=\"row_heading level0 row11\" >11</th>\n",
       "                        <td id=\"T_16e9141c_c187_11eb_aee1_982cbcd5dec7row11_col0\" class=\"data row11 col0\" >362.670000</td>\n",
       "                        <td id=\"T_16e9141c_c187_11eb_aee1_982cbcd5dec7row11_col1\" class=\"data row11 col1\" >58.630000</td>\n",
       "                        <td id=\"T_16e9141c_c187_11eb_aee1_982cbcd5dec7row11_col2\" class=\"data row11 col2\" >39.950000</td>\n",
       "                        <td id=\"T_16e9141c_c187_11eb_aee1_982cbcd5dec7row11_col3\" class=\"data row11 col3\" >574.850000</td>\n",
       "                        <td id=\"T_16e9141c_c187_11eb_aee1_982cbcd5dec7row11_col4\" class=\"data row11 col4\" >43.020000</td>\n",
       "                        <td id=\"T_16e9141c_c187_11eb_aee1_982cbcd5dec7row11_col5\" class=\"data row11 col5\" >23.030000</td>\n",
       "                        <td id=\"T_16e9141c_c187_11eb_aee1_982cbcd5dec7row11_col6\" class=\"data row11 col6\" >395.430000</td>\n",
       "                        <td id=\"T_16e9141c_c187_11eb_aee1_982cbcd5dec7row11_col7\" class=\"data row11 col7\" >63.760000</td>\n",
       "                        <td id=\"T_16e9141c_c187_11eb_aee1_982cbcd5dec7row11_col8\" class=\"data row11 col8\" >31.650000</td>\n",
       "                        <td id=\"T_16e9141c_c187_11eb_aee1_982cbcd5dec7row11_col9\" class=\"data row11 col9\" >50.060000</td>\n",
       "                        <td id=\"T_16e9141c_c187_11eb_aee1_982cbcd5dec7row11_col10\" class=\"data row11 col10\" >45.300000</td>\n",
       "                        <td id=\"T_16e9141c_c187_11eb_aee1_982cbcd5dec7row11_col11\" class=\"data row11 col11\" >16.140000</td>\n",
       "                        <td id=\"T_16e9141c_c187_11eb_aee1_982cbcd5dec7row11_col12\" class=\"data row11 col12\" >1704.490000</td>\n",
       "                        <td id=\"T_16e9141c_c187_11eb_aee1_982cbcd5dec7row11_col13\" class=\"data row11 col13\" >96.000000</td>\n",
       "            </tr>\n",
       "    </tbody></table>"
      ],
      "text/plain": [
       "<pandas.io.formats.style.Styler at 0x1e166cd3a08>"
      ]
     },
     "execution_count": 218,
     "metadata": {},
     "output_type": "execute_result"
    }
   ],
   "source": [
    "teams.style.background_gradient(cmap='RdYlGn', high=.2,low=0.4)"
   ]
  },
  {
   "cell_type": "markdown",
   "metadata": {},
   "source": [
    "Here We can see all the teams on the the different rows, and where their relative strengths and weakness are in the different positions to quickly find potential trade partners. "
   ]
  }
 ],
 "metadata": {
  "kernelspec": {
   "display_name": "Python 3",
   "language": "python",
   "name": "python3"
  },
  "language_info": {
   "codemirror_mode": {
    "name": "ipython",
    "version": 3
   },
   "file_extension": ".py",
   "mimetype": "text/x-python",
   "name": "python",
   "nbconvert_exporter": "python",
   "pygments_lexer": "ipython3",
   "version": "3.7.7"
  },
  "toc": {
   "base_numbering": 1,
   "nav_menu": {},
   "number_sections": true,
   "sideBar": true,
   "skip_h1_title": true,
   "title_cell": "Table of Contents",
   "title_sidebar": "Contents",
   "toc_cell": false,
   "toc_position": {},
   "toc_section_display": true,
   "toc_window_display": true
  },
  "varInspector": {
   "cols": {
    "lenName": 16,
    "lenType": 16,
    "lenVar": 40
   },
   "kernels_config": {
    "python": {
     "delete_cmd_postfix": "",
     "delete_cmd_prefix": "del ",
     "library": "var_list.py",
     "varRefreshCmd": "print(var_dic_list())"
    },
    "r": {
     "delete_cmd_postfix": ") ",
     "delete_cmd_prefix": "rm(",
     "library": "var_list.r",
     "varRefreshCmd": "cat(var_dic_list()) "
    }
   },
   "types_to_exclude": [
    "module",
    "function",
    "builtin_function_or_method",
    "instance",
    "_Feature"
   ],
   "window_display": false
  }
 },
 "nbformat": 4,
 "nbformat_minor": 4
}
